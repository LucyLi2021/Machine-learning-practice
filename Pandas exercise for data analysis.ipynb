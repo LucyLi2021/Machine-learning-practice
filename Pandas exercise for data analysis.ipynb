{
 "cells": [
  {
   "cell_type": "code",
   "execution_count": 1,
   "id": "c4506dde",
   "metadata": {},
   "outputs": [],
   "source": [
    "import numpy as np\n",
    "import pandas as pd"
   ]
  },
  {
   "cell_type": "code",
   "execution_count": 4,
   "id": "99fe158b",
   "metadata": {},
   "outputs": [
    {
     "name": "stdout",
     "output_type": "stream",
     "text": [
      "0.23.4\n",
      "{'system': {'commit': None, 'python': '3.7.0.final.0', 'python-bits': 64, 'OS': 'Windows', 'OS-release': '10', 'machine': 'AMD64', 'processor': 'Intel64 Family 6 Model 142 Stepping 9, GenuineIntel', 'byteorder': 'little', 'LC_ALL': 'None', 'LANG': 'None', 'LOCALE': 'None.None'}, 'dependencies': {'pandas': '0.23.4', 'pytest': '3.8.0', 'pip': '21.2.4', 'setuptools': '40.2.0', 'Cython': '0.28.5', 'numpy': '1.18.2', 'scipy': '1.1.0', 'pyarrow': None, 'xarray': None, 'IPython': '6.5.0', 'sphinx': '1.7.9', 'patsy': '0.5.0', 'dateutil': '2.7.3', 'pytz': '2018.5', 'blosc': None, 'bottleneck': '1.2.1', 'tables': '3.4.4', 'numexpr': '2.6.8', 'feather': None, 'matplotlib': '2.2.3', 'openpyxl': '2.5.6', 'xlrd': '1.1.0', 'xlwt': '1.3.0', 'xlsxwriter': '1.1.0', 'lxml': '4.2.5', 'bs4': '4.6.3', 'html5lib': '1.0.1', 'sqlalchemy': '1.2.11', 'pymysql': None, 'psycopg2': None, 'jinja2': '2.10', 's3fs': None, 'fastparquet': None, 'pandas_gbq': None, 'pandas_datareader': None}}\n",
      "None\n"
     ]
    }
   ],
   "source": [
    "# show version\n",
    "print(pd.__version__)\n",
    "print(pd.show_versions(as_json = True))"
   ]
  },
  {
   "cell_type": "code",
   "execution_count": 2,
   "id": "48b181b3",
   "metadata": {},
   "outputs": [
    {
     "name": "stdout",
     "output_type": "stream",
     "text": [
      "['a', 'b', 'c', 'e', 'd', 'f', 'g', 'h', 'i', 'j', 'k', 'l', 'm', 'n', 'o', 'p', 'q', 'r', 's', 't', 'u', 'v', 'w', 'x', 'y', 'z']\n",
      "[ 0  1  2  3  4  5  6  7  8  9 10 11 12 13 14 15 16 17 18 19 20 21 22 23\n",
      " 24 25]\n",
      "{'a': 0, 'b': 1, 'c': 2, 'e': 3, 'd': 4, 'f': 5, 'g': 6, 'h': 7, 'i': 8, 'j': 9, 'k': 10, 'l': 11, 'm': 12, 'n': 13, 'o': 14, 'p': 15, 'q': 16, 'r': 17, 's': 18, 't': 19, 'u': 20, 'v': 21, 'w': 22, 'x': 23, 'y': 24, 'z': 25}\n",
      "0    a\n",
      "1    b\n",
      "2    c\n",
      "3    e\n",
      "4    d\n",
      "dtype: object\n",
      "0    0\n",
      "1    1\n",
      "2    2\n",
      "3    3\n",
      "4    4\n",
      "dtype: int32\n",
      "a    0\n",
      "b    1\n",
      "c    2\n",
      "e    3\n",
      "d    4\n",
      "dtype: int64\n"
     ]
    }
   ],
   "source": [
    "# create a series\n",
    "mylist = list('abcedfghijklmnopqrstuvwxyz')  # list\n",
    "myarr = np.arange(26)  # numpy array\n",
    "mydict = dict(zip(mylist, myarr))  # dict\n",
    "ser1 = pd.Series(mylist)\n",
    "ser2 = pd.Series(myarr)\n",
    "ser3 = pd.Series(mydict)\n",
    "print(mylist)\n",
    "print(myarr)\n",
    "print(mydict)\n",
    "print(ser1.head())\n",
    "print(ser2.head())\n",
    "print(ser3.head())"
   ]
  },
  {
   "cell_type": "code",
   "execution_count": 21,
   "id": "81d1e3b5",
   "metadata": {},
   "outputs": [
    {
     "name": "stdout",
     "output_type": "stream",
     "text": [
      "  index  0\n",
      "0     a  0\n",
      "1     b  1\n",
      "2     c  2\n",
      "3     e  3\n",
      "4     d  4\n"
     ]
    }
   ],
   "source": [
    "# convert index to column\n",
    "df = ser3.to_frame().reset_index()\n",
    "print(df.head())"
   ]
  },
  {
   "cell_type": "code",
   "execution_count": 25,
   "id": "8ab55821",
   "metadata": {},
   "outputs": [
    {
     "name": "stdout",
     "output_type": "stream",
     "text": [
      "   0  1\n",
      "0  a  0\n",
      "1  b  1\n",
      "2  c  2\n",
      "3  e  3\n",
      "4  d  4\n"
     ]
    }
   ],
   "source": [
    "# combine series\n",
    "df = pd.concat([ser1, ser2], axis = 1)\n",
    "print(df.head())"
   ]
  },
  {
   "cell_type": "code",
   "execution_count": 4,
   "id": "1fd18dcc",
   "metadata": {
    "scrolled": true
   },
   "outputs": [
    {
     "data": {
      "text/plain": [
       "0    a\n",
       "1    b\n",
       "2    c\n",
       "3    e\n",
       "4    d\n",
       "Name: alphabets, dtype: object"
      ]
     },
     "execution_count": 4,
     "metadata": {},
     "output_type": "execute_result"
    }
   ],
   "source": [
    "# 5. assign name to index\n",
    "ser1.name = 'alphabets'\n",
    "ser1.head()"
   ]
  },
  {
   "cell_type": "code",
   "execution_count": 3,
   "id": "ec4f1658",
   "metadata": {},
   "outputs": [
    {
     "data": {
      "text/plain": [
       "0    1\n",
       "1    2\n",
       "2    3\n",
       "dtype: int64"
      ]
     },
     "execution_count": 3,
     "metadata": {},
     "output_type": "execute_result"
    }
   ],
   "source": [
    "# minus\n",
    "ser1 = pd.Series([1, 2, 3, 4, 5])\n",
    "ser2 = pd.Series([4, 5, 6, 7, 8])\n",
    "ser1[~ser1.isin(ser2)]"
   ]
  },
  {
   "cell_type": "code",
   "execution_count": 7,
   "id": "9e4fe8be",
   "metadata": {},
   "outputs": [
    {
     "data": {
      "text/plain": [
       "0    1\n",
       "1    2\n",
       "2    3\n",
       "5    6\n",
       "6    7\n",
       "7    8\n",
       "dtype: int64"
      ]
     },
     "execution_count": 7,
     "metadata": {},
     "output_type": "execute_result"
    }
   ],
   "source": [
    "# 7.not common to both series\n",
    "ser_u = pd.Series(np.union1d(ser1, ser2))\n",
    "ser_i = pd.Series(np.intersect1d(ser1, ser2))\n",
    "ser_u[~ser_u.isin(ser_i)]"
   ]
  },
  {
   "cell_type": "code",
   "execution_count": 5,
   "id": "ad564ace",
   "metadata": {},
   "outputs": [
    {
     "data": {
      "text/plain": [
       "array([ 1.25117263,  7.70986507, 10.92259345, 13.36360403, 18.0949083 ])"
      ]
     },
     "execution_count": 5,
     "metadata": {},
     "output_type": "execute_result"
    }
   ],
   "source": [
    "# percentile\n",
    "state = np.random.RandomState(100)\n",
    "ser = pd.Series(state.normal(10, 5, 25)) # random.normal(loc=0.0, scale=1.0, size=None)\n",
    "np.percentile(ser, q = [0,25,50, 75, 100])"
   ]
  },
  {
   "cell_type": "code",
   "execution_count": 8,
   "id": "50ee9ef8",
   "metadata": {},
   "outputs": [
    {
     "data": {
      "text/plain": [
       "e    6\n",
       "b    6\n",
       "h    5\n",
       "d    5\n",
       "g    3\n",
       "c    3\n",
       "a    1\n",
       "f    1\n",
       "dtype: int64"
      ]
     },
     "execution_count": 8,
     "metadata": {},
     "output_type": "execute_result"
    }
   ],
   "source": [
    "# frequency count\n",
    "ser = pd.Series(np.take(list('abcdefgh'), np.random.randint(8, size=30)))\n",
    "# randint(upper_limit, size) as index, then take item from 'abcdefgh'\n",
    "ser.value_counts()"
   ]
  },
  {
   "cell_type": "code",
   "execution_count": 17,
   "id": "059052b6",
   "metadata": {},
   "outputs": [
    {
     "data": {
      "text/plain": [
       "0         1\n",
       "1         1\n",
       "2         4\n",
       "3         4\n",
       "4         4\n",
       "5         4\n",
       "6         1\n",
       "7     Other\n",
       "8     Other\n",
       "9         1\n",
       "10    Other\n",
       "11    Other\n",
       "dtype: object"
      ]
     },
     "execution_count": 17,
     "metadata": {},
     "output_type": "execute_result"
    }
   ],
   "source": [
    "# keep top2 frequent value, and replce the everything else as other\n",
    "state = np.random.RandomState(100)\n",
    "ser = pd.Series(state.randint(1, 5, [12]))\n",
    "ser.value_counts()\n",
    "ser[~ser.isin(ser.value_counts().index[:2])] = 'Other'\n",
    "ser"
   ]
  },
  {
   "cell_type": "code",
   "execution_count": 23,
   "id": "4511a857",
   "metadata": {},
   "outputs": [
    {
     "data": {
      "text/plain": [
       "0      2nd\n",
       "1      1st\n",
       "2      3rd\n",
       "3      7th\n",
       "4      2nd\n",
       "5      9th\n",
       "6      5th\n",
       "7      3rd\n",
       "8      4th\n",
       "9      9th\n",
       "10     8th\n",
       "11    10th\n",
       "12     4th\n",
       "13     5th\n",
       "14     6th\n",
       "15     1st\n",
       "16     7th\n",
       "17     6th\n",
       "18     8th\n",
       "19    10th\n",
       "dtype: category\n",
       "Categories (10, object): [1st < 2nd < 3rd < 4th ... 7th < 8th < 9th < 10th]"
      ]
     },
     "execution_count": 23,
     "metadata": {},
     "output_type": "execute_result"
    }
   ],
   "source": [
    "# how to bin a numeric series to 10 groups of equal size\n",
    "ser = pd.Series(np.random.random(20)) # [0, 1)\n",
    "pd.qcut(ser, q=[0, .10, .20, .3, .4, .5, .6, .7, .8, .9, 1],\\\n",
    "        labels=['1st', '2nd', '3rd', '4th', '5th', '6th', '7th', '8th', '9th', '10th'])"
   ]
  },
  {
   "cell_type": "code",
   "execution_count": 26,
   "id": "9bcf17f1",
   "metadata": {},
   "outputs": [
    {
     "name": "stdout",
     "output_type": "stream",
     "text": [
      "[[8 8 9 7 8]\n",
      " [6 5 9 8 2]\n",
      " [8 1 3 6 3]\n",
      " [7 4 9 9 3]\n",
      " [3 7 2 3 2]\n",
      " [6 4 1 7 1]\n",
      " [2 8 8 1 5]]\n",
      "   0  1  2  3  4\n",
      "0  8  8  9  7  8\n",
      "1  6  5  9  8  2\n",
      "2  8  1  3  6  3\n",
      "3  7  4  9  9  3\n",
      "4  3  7  2  3  2\n",
      "5  6  4  1  7  1\n",
      "6  2  8  8  1  5\n"
     ]
    }
   ],
   "source": [
    "ser = pd.Series(np.random.randint(1, 10, 35))\n",
    "print(ser.values.reshape(7,  5))\n",
    "print(pd.DataFrame(ser.values.reshape(7,  5)))"
   ]
  },
  {
   "cell_type": "code",
   "execution_count": 27,
   "id": "8b584548",
   "metadata": {},
   "outputs": [
    {
     "data": {
      "text/plain": [
       "array([[2],\n",
       "       [4]], dtype=int64)"
      ]
     },
     "execution_count": 27,
     "metadata": {},
     "output_type": "execute_result"
    }
   ],
   "source": [
    "# the position of numbers that are multiples of 3\n",
    "ser = pd.Series(np.random.randint(1, 10, 7))\n",
    "np.argwhere(ser % 3 == 0) # given a condition, return the index of array"
   ]
  },
  {
   "cell_type": "code",
   "execution_count": 29,
   "id": "cf6bb588",
   "metadata": {},
   "outputs": [
    {
     "data": {
      "text/plain": [
       "0     a\n",
       "4     e\n",
       "8     i\n",
       "14    o\n",
       "20    u\n",
       "dtype: object"
      ]
     },
     "execution_count": 29,
     "metadata": {},
     "output_type": "execute_result"
    }
   ],
   "source": [
    "ser = pd.Series(list('abcdefghijklmnopqrstuvwxyz'))\n",
    "pos = [0, 4, 8, 14, 20]\n",
    "ser.take(pos) # given a index, return the value"
   ]
  },
  {
   "cell_type": "code",
   "execution_count": 31,
   "id": "9f506ce3",
   "metadata": {},
   "outputs": [
    {
     "data": {
      "text/html": [
       "<div>\n",
       "<style scoped>\n",
       "    .dataframe tbody tr th:only-of-type {\n",
       "        vertical-align: middle;\n",
       "    }\n",
       "\n",
       "    .dataframe tbody tr th {\n",
       "        vertical-align: top;\n",
       "    }\n",
       "\n",
       "    .dataframe thead th {\n",
       "        text-align: right;\n",
       "    }\n",
       "</style>\n",
       "<table border=\"1\" class=\"dataframe\">\n",
       "  <thead>\n",
       "    <tr style=\"text-align: right;\">\n",
       "      <th></th>\n",
       "      <th>0</th>\n",
       "      <th>1</th>\n",
       "    </tr>\n",
       "  </thead>\n",
       "  <tbody>\n",
       "    <tr>\n",
       "      <th>0</th>\n",
       "      <td>0</td>\n",
       "      <td>a</td>\n",
       "    </tr>\n",
       "    <tr>\n",
       "      <th>1</th>\n",
       "      <td>1</td>\n",
       "      <td>b</td>\n",
       "    </tr>\n",
       "    <tr>\n",
       "      <th>2</th>\n",
       "      <td>2</td>\n",
       "      <td>c</td>\n",
       "    </tr>\n",
       "    <tr>\n",
       "      <th>3</th>\n",
       "      <td>3</td>\n",
       "      <td>d</td>\n",
       "    </tr>\n",
       "    <tr>\n",
       "      <th>4</th>\n",
       "      <td>4</td>\n",
       "      <td>e</td>\n",
       "    </tr>\n",
       "  </tbody>\n",
       "</table>\n",
       "</div>"
      ],
      "text/plain": [
       "   0  1\n",
       "0  0  a\n",
       "1  1  b\n",
       "2  2  c\n",
       "3  3  d\n",
       "4  4  e"
      ]
     },
     "execution_count": 31,
     "metadata": {},
     "output_type": "execute_result"
    }
   ],
   "source": [
    "# stack two series vertically and horizontally\n",
    "ser1 = pd.Series(range(5))\n",
    "ser2 = pd.Series(list('abcde'))\n",
    "# vertical\n",
    "ser1.append(ser2)\n",
    "# horizontal\n",
    "pd.concat([ser1, ser2], axis = 1)"
   ]
  },
  {
   "cell_type": "code",
   "execution_count": 39,
   "id": "9c504e61",
   "metadata": {},
   "outputs": [
    {
     "data": {
      "text/plain": [
       "[5, 4, 0, 8]"
      ]
     },
     "execution_count": 39,
     "metadata": {},
     "output_type": "execute_result"
    }
   ],
   "source": [
    "# the position of series a in another series b\n",
    "ser1 = pd.Series([10, 9, 6, 5, 3, 1, 12, 8, 13])\n",
    "ser2 = pd.Series([1, 3, 10, 13])\n",
    "# [np.where(i == ser1)[0].tolist()[0] for i in ser2]\n",
    "[pd.Index(ser1).get_loc(i) for i in ser2] # pd.Index used for indexing"
   ]
  },
  {
   "cell_type": "code",
   "execution_count": 40,
   "id": "54c44369",
   "metadata": {},
   "outputs": [
    {
     "data": {
      "text/plain": [
       "0.3326742483549697"
      ]
     },
     "execution_count": 40,
     "metadata": {},
     "output_type": "execute_result"
    }
   ],
   "source": [
    "# MSE\n",
    "truth = pd.Series(range(10))\n",
    "pred = pd.Series(range(10)) + np.random.random(10)\n",
    "# Solution\n",
    "np.mean((truth-pred)**2)"
   ]
  },
  {
   "cell_type": "code",
   "execution_count": 48,
   "id": "3c0f53e2",
   "metadata": {},
   "outputs": [
    {
     "data": {
      "text/plain": [
       "0     How\n",
       "1      To\n",
       "2    Kick\n",
       "3    Ass?\n",
       "dtype: object"
      ]
     },
     "execution_count": 48,
     "metadata": {},
     "output_type": "execute_result"
    }
   ],
   "source": [
    "# convert the first character of each element in a series to uppercase\n",
    "ser = pd.Series(['how', 'to', 'kick', 'ass?'])\n",
    "pd.Series([i.title() for i in ser])\n",
    "ser.map(lambda x:x.title())\n",
    "ser.map(lambda x:x[0].upper() + x[1:])"
   ]
  },
  {
   "cell_type": "code",
   "execution_count": 52,
   "id": "3aa2a8d0",
   "metadata": {},
   "outputs": [
    {
     "data": {
      "text/plain": [
       "0    3\n",
       "1    2\n",
       "2    4\n",
       "3    4\n",
       "dtype: int64"
      ]
     },
     "execution_count": 52,
     "metadata": {},
     "output_type": "execute_result"
    }
   ],
   "source": [
    "# the length of each character\n",
    "[len(i) for i in ser]\n",
    "ser.map(lambda x:len(x))"
   ]
  },
  {
   "cell_type": "code",
   "execution_count": 56,
   "id": "38733607",
   "metadata": {},
   "outputs": [
    {
     "data": {
      "text/plain": [
       "[nan, 2.0, 3.0, 4.0, 5.0, 6.0, 6.0, 8.0]"
      ]
     },
     "execution_count": 56,
     "metadata": {},
     "output_type": "execute_result"
    }
   ],
   "source": [
    "# difference\n",
    "ser = pd.Series([1, 3, 6, 10, 15, 21, 27, 35])\n",
    "ser.diff().tolist()"
   ]
  },
  {
   "cell_type": "code",
   "execution_count": 58,
   "id": "cc80666f",
   "metadata": {},
   "outputs": [
    {
     "data": {
      "text/plain": [
       "0   2010-01-01 00:00:00\n",
       "1   2011-02-02 00:00:00\n",
       "2   2012-03-03 00:00:00\n",
       "3   2013-04-04 00:00:00\n",
       "4   2014-05-05 00:00:00\n",
       "5   2015-06-06 12:20:00\n",
       "dtype: datetime64[ns]"
      ]
     },
     "execution_count": 58,
     "metadata": {},
     "output_type": "execute_result"
    }
   ],
   "source": [
    "# date string to timeseries\n",
    "ser = pd.Series(['01 Jan 2010', '02-02-2011', '20120303', '2013/04/04', '2014-05-05', '2015-06-06T12:20'])\n",
    "pd.to_datetime(ser)"
   ]
  },
  {
   "cell_type": "code",
   "execution_count": 61,
   "id": "27483f72",
   "metadata": {},
   "outputs": [
    {
     "name": "stdout",
     "output_type": "stream",
     "text": [
      "Date  [1, 2, 3, 4, 5, 6]\n",
      "week number  [53, 5, 9, 14, 19, 23]\n",
      "day number of year  [1, 33, 63, 94, 125, 157]\n",
      "day of week  ['Friday', 'Wednesday', 'Saturday', 'Thursday', 'Monday', 'Saturday']\n"
     ]
    }
   ],
   "source": [
    "# day of month, week number, day of year and day of week\n",
    "from dateutil.parser import parse\n",
    "ser_ts = ser.map(lambda x: parse(x))\n",
    "print(\"Date \", ser_ts.dt.day.tolist()) # day of month\n",
    "print(\"week number \", ser_ts.dt.weekofyear.tolist())\n",
    "print(\"day number of year \", ser_ts.dt.dayofyear.tolist())\n",
    "print(\"day of week \", ser_ts.dt.weekday_name.tolist())"
   ]
  },
  {
   "cell_type": "code",
   "execution_count": 68,
   "id": "e3ea8b22",
   "metadata": {},
   "outputs": [
    {
     "data": {
      "text/plain": [
       "0   2010-01-04\n",
       "1   2011-02-04\n",
       "2   2012-03-04\n",
       "dtype: datetime64[ns]"
      ]
     },
     "execution_count": 68,
     "metadata": {},
     "output_type": "execute_result"
    }
   ],
   "source": [
    "# convert year-month string to dates corresponding to the 4th day of the month\n",
    "ser = pd.Series(['Jan 2010', 'Feb 2011', 'Mar 2012'])\n",
    "ser_ts = pd.to_datetime(ser)\n",
    "ser_str = ser_ts.dt.year.astype(str) + '-' + ser_ts.dt.month.astype(str) + '-04'\n",
    "[parse(i).strftime('%Y-%m-%d') for i in ser_str]\n",
    "\n",
    "ser.map(lambda x:parse('04' + x))"
   ]
  },
  {
   "cell_type": "code",
   "execution_count": 71,
   "id": "2a5c6f88",
   "metadata": {},
   "outputs": [
    {
     "name": "stdout",
     "output_type": "stream",
     "text": [
      "0     Apple\n",
      "1    Orange\n",
      "4     Money\n",
      "dtype: object\n",
      "0     True\n",
      "1     True\n",
      "2    False\n",
      "3    False\n",
      "4     True\n",
      "dtype: bool\n"
     ]
    }
   ],
   "source": [
    "# filter words that contain atleast 2 vowels\n",
    "ser = pd.Series(['Apple', 'Orange', 'Plan', 'Python', 'Money'])\n",
    "from collections import Counter\n",
    "mask = ser.map(lambda x: sum([Counter(x.lower()).get(i, 0) for i in list('aeiou')]) >= 2)\n",
    "print(ser[mask])\n",
    "print(mask)"
   ]
  },
  {
   "cell_type": "code",
   "execution_count": 75,
   "id": "01b0b3ef",
   "metadata": {},
   "outputs": [
    {
     "data": {
      "text/plain": [
       "1    rameses@egypt.com\n",
       "2            matt@t.co\n",
       "3    narendra@modi.com\n",
       "dtype: object"
      ]
     },
     "execution_count": 75,
     "metadata": {},
     "output_type": "execute_result"
    }
   ],
   "source": [
    "#  filter valid emails\n",
    "emails = pd.Series(['buying books at amazom.com', 'rameses@egypt.com', 'matt@t.co', 'narendra@modi.com'])\n",
    "pattern ='[A-Za-z0-9._%+-]+@[A-Za-z0-9.-]+\\\\.[A-Za-z]{2,4}'\n",
    "\n",
    "import re\n",
    "mask = emails.map(lambda x:bool(re.match(pattern, x)))\n",
    "emails[mask]"
   ]
  },
  {
   "cell_type": "code",
   "execution_count": 78,
   "id": "0090bd40",
   "metadata": {},
   "outputs": [
    {
     "name": "stdout",
     "output_type": "stream",
     "text": [
      "[1.0, 2.0, 3.0, 4.0, 5.0, 6.0, 7.0, 8.0, 9.0, 10.0]\n",
      "['carrot', 'apple', 'carrot', 'banana', 'carrot', 'carrot', 'apple', 'banana', 'banana', 'banana']\n"
     ]
    },
    {
     "data": {
      "text/plain": [
       "apple     4.50\n",
       "banana    7.75\n",
       "carrot    3.75\n",
       "dtype: float64"
      ]
     },
     "execution_count": 78,
     "metadata": {},
     "output_type": "execute_result"
    }
   ],
   "source": [
    "# the mean of a series grouped by another series\n",
    "fruit = pd.Series(np.random.choice(['apple', 'banana', 'carrot'], 10))\n",
    "weight = pd.Series(np.linspace(1, 10, 10))\n",
    "print(weight.tolist())\n",
    "print(fruit.tolist())\n",
    "weight.groupby(fruit).mean()"
   ]
  },
  {
   "cell_type": "code",
   "execution_count": 79,
   "id": "5285b30c",
   "metadata": {},
   "outputs": [
    {
     "data": {
      "text/plain": [
       "18.16590212458495"
      ]
     },
     "execution_count": 79,
     "metadata": {},
     "output_type": "execute_result"
    }
   ],
   "source": [
    "# 27. compute the euclidean distance between two series\n",
    "p = pd.Series([1, 2, 3, 4, 5, 6, 7, 8, 9, 10])\n",
    "q = pd.Series([10, 9, 8, 7, 6, 5, 4, 3, 2, 1])\n",
    "\n",
    "# Solution \n",
    "sum((p - q)**2)**.5\n",
    "\n",
    "# Solution (using func)\n",
    "np.linalg.norm(p-q)"
   ]
  },
  {
   "cell_type": "code",
   "execution_count": 11,
   "id": "aef74d9a",
   "metadata": {},
   "outputs": [
    {
     "data": {
      "text/plain": [
       "array([1, 5, 7], dtype=int64)"
      ]
     },
     "execution_count": 11,
     "metadata": {},
     "output_type": "execute_result"
    }
   ],
   "source": [
    "# find all the local maxima (or peaks) in a numeric series\n",
    "ser = pd.Series([2, 10, 3, 4, 9, 10, 2, 7, 3])\n",
    "dd = np.diff(np.sign(np.diff(ser)))\n",
    "np.where(dd == -2)[0] + 1"
   ]
  },
  {
   "cell_type": "code",
   "execution_count": 21,
   "id": "5aabc49e",
   "metadata": {},
   "outputs": [
    {
     "data": {
      "text/plain": [
       "'dbccdebcabedcgade'"
      ]
     },
     "execution_count": 21,
     "metadata": {},
     "output_type": "execute_result"
    }
   ],
   "source": [
    "# replace missing spaces in a string with the least frequent character\n",
    "my_str = 'dbc deb abed gade'\n",
    "least_freq = pd.Series(list(my_str)).value_counts().index[-1]\n",
    "\"\".join(my_str.replace(' ', least_freq))"
   ]
  },
  {
   "cell_type": "code",
   "execution_count": 26,
   "id": "7d866785",
   "metadata": {},
   "outputs": [
    {
     "data": {
      "text/plain": [
       "2000-01-01    2\n",
       "2000-01-08    7\n",
       "2000-01-15    7\n",
       "2000-01-22    2\n",
       "2000-01-29    3\n",
       "2000-02-05    4\n",
       "2000-02-12    7\n",
       "2000-02-19    5\n",
       "2000-02-26    6\n",
       "2000-03-04    8\n",
       "Freq: W-SAT, dtype: int32"
      ]
     },
     "execution_count": 26,
     "metadata": {},
     "output_type": "execute_result"
    }
   ],
   "source": [
    "# TimeSeries\n",
    "pd.Series(np.random.randint(1, 10, 10),\\\n",
    "         pd.date_range('2000-01-01', periods = 10, freq = 'W-SAT'))"
   ]
  },
  {
   "cell_type": "code",
   "execution_count": 29,
   "id": "d0b3a92f",
   "metadata": {},
   "outputs": [
    {
     "data": {
      "text/plain": [
       "2000-01-01     1.0\n",
       "2000-01-02    10.0\n",
       "2000-01-03    10.0\n",
       "2000-01-04     3.0\n",
       "2000-01-05     3.0\n",
       "2000-01-06     3.0\n",
       "2000-01-07     NaN\n",
       "2000-01-08     NaN\n",
       "Freq: D, dtype: float64"
      ]
     },
     "execution_count": 29,
     "metadata": {},
     "output_type": "execute_result"
    }
   ],
   "source": [
    "# fill an intermittent time series so all missing dates show up with values of previous non-missing date\n",
    "ser = pd.Series([1,10,3,np.nan], index=pd.to_datetime(['2000-01-01', '2000-01-03', '2000-01-06', '2000-01-08']))\n",
    "ser.resample('D').ffill() # fill with previous value. 'D' meadns day\n",
    "ser.resample('D').bfill()  # fill with next value"
   ]
  },
  {
   "cell_type": "code",
   "execution_count": 36,
   "id": "e62bc40c",
   "metadata": {},
   "outputs": [
    {
     "data": {
      "text/plain": [
       "[0.9999999999999999,\n",
       " 0.29893747352226807,\n",
       " 0.22889964858082074,\n",
       " 0.2605165572777151,\n",
       " -0.016689052597570222,\n",
       " 0.42982644330923975,\n",
       " 0.5439978086495478,\n",
       " 0.4986447175572082,\n",
       " 0.289570581689875,\n",
       " 0.3746497010081732,\n",
       " 0.20265888106336585]"
      ]
     },
     "execution_count": 36,
     "metadata": {},
     "output_type": "execute_result"
    }
   ],
   "source": [
    "# autocorrelations of a numeric series\n",
    "ser = pd.Series(np.arange(20) + np.random.normal(1, 10, 20))\n",
    "[ser.autocorr(i) for i in range(11)] # The Pearson correlation between self and self.shift(lag).\n",
    "# i means lag"
   ]
  },
  {
   "cell_type": "code",
   "execution_count": 37,
   "id": "410a268e",
   "metadata": {},
   "outputs": [
    {
     "data": {
      "text/html": [
       "<div>\n",
       "<style scoped>\n",
       "    .dataframe tbody tr th:only-of-type {\n",
       "        vertical-align: middle;\n",
       "    }\n",
       "\n",
       "    .dataframe tbody tr th {\n",
       "        vertical-align: top;\n",
       "    }\n",
       "\n",
       "    .dataframe thead th {\n",
       "        text-align: right;\n",
       "    }\n",
       "</style>\n",
       "<table border=\"1\" class=\"dataframe\">\n",
       "  <thead>\n",
       "    <tr style=\"text-align: right;\">\n",
       "      <th></th>\n",
       "      <th>age</th>\n",
       "      <th>b</th>\n",
       "      <th>chas</th>\n",
       "      <th>crim</th>\n",
       "      <th>dis</th>\n",
       "      <th>indus</th>\n",
       "      <th>lstat</th>\n",
       "      <th>medv</th>\n",
       "      <th>nox</th>\n",
       "      <th>ptratio</th>\n",
       "      <th>rad</th>\n",
       "      <th>rm</th>\n",
       "      <th>tax</th>\n",
       "      <th>zn</th>\n",
       "    </tr>\n",
       "  </thead>\n",
       "  <tbody>\n",
       "    <tr>\n",
       "      <th>0</th>\n",
       "      <td>65.2</td>\n",
       "      <td>396.90</td>\n",
       "      <td>0.0</td>\n",
       "      <td>0.00632</td>\n",
       "      <td>4.0900</td>\n",
       "      <td>2.31</td>\n",
       "      <td>4.98</td>\n",
       "      <td>24.0</td>\n",
       "      <td>0.538</td>\n",
       "      <td>15.3</td>\n",
       "      <td>1.0</td>\n",
       "      <td>6.575</td>\n",
       "      <td>296.0</td>\n",
       "      <td>18.0</td>\n",
       "    </tr>\n",
       "    <tr>\n",
       "      <th>50</th>\n",
       "      <td>45.7</td>\n",
       "      <td>395.56</td>\n",
       "      <td>0.0</td>\n",
       "      <td>0.08873</td>\n",
       "      <td>6.8147</td>\n",
       "      <td>5.64</td>\n",
       "      <td>13.45</td>\n",
       "      <td>19.7</td>\n",
       "      <td>0.439</td>\n",
       "      <td>16.8</td>\n",
       "      <td>4.0</td>\n",
       "      <td>5.963</td>\n",
       "      <td>243.0</td>\n",
       "      <td>21.0</td>\n",
       "    </tr>\n",
       "    <tr>\n",
       "      <th>100</th>\n",
       "      <td>79.9</td>\n",
       "      <td>394.76</td>\n",
       "      <td>0.0</td>\n",
       "      <td>0.14866</td>\n",
       "      <td>2.7778</td>\n",
       "      <td>8.56</td>\n",
       "      <td>9.42</td>\n",
       "      <td>27.5</td>\n",
       "      <td>0.520</td>\n",
       "      <td>20.9</td>\n",
       "      <td>5.0</td>\n",
       "      <td>6.727</td>\n",
       "      <td>384.0</td>\n",
       "      <td>0.0</td>\n",
       "    </tr>\n",
       "    <tr>\n",
       "      <th>150</th>\n",
       "      <td>97.3</td>\n",
       "      <td>372.80</td>\n",
       "      <td>0.0</td>\n",
       "      <td>1.65660</td>\n",
       "      <td>1.6180</td>\n",
       "      <td>19.58</td>\n",
       "      <td>14.10</td>\n",
       "      <td>21.5</td>\n",
       "      <td>0.871</td>\n",
       "      <td>14.7</td>\n",
       "      <td>5.0</td>\n",
       "      <td>6.122</td>\n",
       "      <td>403.0</td>\n",
       "      <td>0.0</td>\n",
       "    </tr>\n",
       "    <tr>\n",
       "      <th>200</th>\n",
       "      <td>13.9</td>\n",
       "      <td>384.30</td>\n",
       "      <td>0.0</td>\n",
       "      <td>0.01778</td>\n",
       "      <td>7.6534</td>\n",
       "      <td>1.47</td>\n",
       "      <td>4.45</td>\n",
       "      <td>32.9</td>\n",
       "      <td>0.403</td>\n",
       "      <td>17.0</td>\n",
       "      <td>3.0</td>\n",
       "      <td>7.135</td>\n",
       "      <td>402.0</td>\n",
       "      <td>95.0</td>\n",
       "    </tr>\n",
       "  </tbody>\n",
       "</table>\n",
       "</div>"
      ],
      "text/plain": [
       "      age       b  chas     crim     dis  indus  lstat  medv    nox  ptratio  \\\n",
       "0    65.2  396.90   0.0  0.00632  4.0900   2.31   4.98  24.0  0.538     15.3   \n",
       "50   45.7  395.56   0.0  0.08873  6.8147   5.64  13.45  19.7  0.439     16.8   \n",
       "100  79.9  394.76   0.0  0.14866  2.7778   8.56   9.42  27.5  0.520     20.9   \n",
       "150  97.3  372.80   0.0  1.65660  1.6180  19.58  14.10  21.5  0.871     14.7   \n",
       "200  13.9  384.30   0.0  0.01778  7.6534   1.47   4.45  32.9  0.403     17.0   \n",
       "\n",
       "     rad     rm    tax    zn  \n",
       "0    1.0  6.575  296.0  18.0  \n",
       "50   4.0  5.963  243.0  21.0  \n",
       "100  5.0  6.727  384.0   0.0  \n",
       "150  5.0  6.122  403.0   0.0  \n",
       "200  3.0  7.135  402.0  95.0  "
      ]
     },
     "execution_count": 37,
     "metadata": {},
     "output_type": "execute_result"
    }
   ],
   "source": [
    "#  import only every nth row from a csv file to create a dataframe\n",
    "df = pd.read_csv('https://raw.githubusercontent.com/selva86/datasets/master/BostonHousing.csv', chunksize=50)\n",
    "df2 = pd.DataFrame()\n",
    "for chunk in df:\n",
    "    df2 = df2.append(chunk.iloc[0,:])\n",
    "df2.head()"
   ]
  },
  {
   "cell_type": "code",
   "execution_count": 39,
   "id": "74ae6f4c",
   "metadata": {},
   "outputs": [
    {
     "data": {
      "text/html": [
       "<div>\n",
       "<style scoped>\n",
       "    .dataframe tbody tr th:only-of-type {\n",
       "        vertical-align: middle;\n",
       "    }\n",
       "\n",
       "    .dataframe tbody tr th {\n",
       "        vertical-align: top;\n",
       "    }\n",
       "\n",
       "    .dataframe thead th {\n",
       "        text-align: right;\n",
       "    }\n",
       "</style>\n",
       "<table border=\"1\" class=\"dataframe\">\n",
       "  <thead>\n",
       "    <tr style=\"text-align: right;\">\n",
       "      <th></th>\n",
       "      <th>crim</th>\n",
       "      <th>zn</th>\n",
       "      <th>indus</th>\n",
       "      <th>chas</th>\n",
       "      <th>nox</th>\n",
       "      <th>rm</th>\n",
       "      <th>age</th>\n",
       "      <th>dis</th>\n",
       "      <th>rad</th>\n",
       "      <th>tax</th>\n",
       "      <th>ptratio</th>\n",
       "      <th>b</th>\n",
       "      <th>lstat</th>\n",
       "      <th>medv</th>\n",
       "    </tr>\n",
       "  </thead>\n",
       "  <tbody>\n",
       "    <tr>\n",
       "      <th>0</th>\n",
       "      <td>0.00632</td>\n",
       "      <td>18.0</td>\n",
       "      <td>2.31</td>\n",
       "      <td>0</td>\n",
       "      <td>0.538</td>\n",
       "      <td>6.575</td>\n",
       "      <td>65.2</td>\n",
       "      <td>4.0900</td>\n",
       "      <td>1</td>\n",
       "      <td>296</td>\n",
       "      <td>15.3</td>\n",
       "      <td>396.90</td>\n",
       "      <td>4.98</td>\n",
       "      <td>low</td>\n",
       "    </tr>\n",
       "    <tr>\n",
       "      <th>1</th>\n",
       "      <td>0.02731</td>\n",
       "      <td>0.0</td>\n",
       "      <td>7.07</td>\n",
       "      <td>0</td>\n",
       "      <td>0.469</td>\n",
       "      <td>6.421</td>\n",
       "      <td>78.9</td>\n",
       "      <td>4.9671</td>\n",
       "      <td>2</td>\n",
       "      <td>242</td>\n",
       "      <td>17.8</td>\n",
       "      <td>396.90</td>\n",
       "      <td>9.14</td>\n",
       "      <td>low</td>\n",
       "    </tr>\n",
       "    <tr>\n",
       "      <th>2</th>\n",
       "      <td>0.02729</td>\n",
       "      <td>0.0</td>\n",
       "      <td>7.07</td>\n",
       "      <td>0</td>\n",
       "      <td>0.469</td>\n",
       "      <td>7.185</td>\n",
       "      <td>61.1</td>\n",
       "      <td>4.9671</td>\n",
       "      <td>2</td>\n",
       "      <td>242</td>\n",
       "      <td>17.8</td>\n",
       "      <td>392.83</td>\n",
       "      <td>4.03</td>\n",
       "      <td>High</td>\n",
       "    </tr>\n",
       "    <tr>\n",
       "      <th>3</th>\n",
       "      <td>0.03237</td>\n",
       "      <td>0.0</td>\n",
       "      <td>2.18</td>\n",
       "      <td>0</td>\n",
       "      <td>0.458</td>\n",
       "      <td>6.998</td>\n",
       "      <td>45.8</td>\n",
       "      <td>6.0622</td>\n",
       "      <td>3</td>\n",
       "      <td>222</td>\n",
       "      <td>18.7</td>\n",
       "      <td>394.63</td>\n",
       "      <td>2.94</td>\n",
       "      <td>High</td>\n",
       "    </tr>\n",
       "    <tr>\n",
       "      <th>4</th>\n",
       "      <td>0.06905</td>\n",
       "      <td>0.0</td>\n",
       "      <td>2.18</td>\n",
       "      <td>0</td>\n",
       "      <td>0.458</td>\n",
       "      <td>7.147</td>\n",
       "      <td>54.2</td>\n",
       "      <td>6.0622</td>\n",
       "      <td>3</td>\n",
       "      <td>222</td>\n",
       "      <td>18.7</td>\n",
       "      <td>396.90</td>\n",
       "      <td>5.33</td>\n",
       "      <td>High</td>\n",
       "    </tr>\n",
       "  </tbody>\n",
       "</table>\n",
       "</div>"
      ],
      "text/plain": [
       "      crim    zn  indus  chas    nox     rm   age     dis  rad  tax  ptratio  \\\n",
       "0  0.00632  18.0   2.31     0  0.538  6.575  65.2  4.0900    1  296     15.3   \n",
       "1  0.02731   0.0   7.07     0  0.469  6.421  78.9  4.9671    2  242     17.8   \n",
       "2  0.02729   0.0   7.07     0  0.469  7.185  61.1  4.9671    2  242     17.8   \n",
       "3  0.03237   0.0   2.18     0  0.458  6.998  45.8  6.0622    3  222     18.7   \n",
       "4  0.06905   0.0   2.18     0  0.458  7.147  54.2  6.0622    3  222     18.7   \n",
       "\n",
       "        b  lstat  medv  \n",
       "0  396.90   4.98   low  \n",
       "1  396.90   9.14   low  \n",
       "2  392.83   4.03  High  \n",
       "3  394.63   2.94  High  \n",
       "4  396.90   5.33  High  "
      ]
     },
     "execution_count": 39,
     "metadata": {},
     "output_type": "execute_result"
    }
   ],
   "source": [
    "# change column values when importing csv to a dataframe\n",
    "df = pd.read_csv('https://raw.githubusercontent.com/selva86/datasets/master/BostonHousing.csv', \n",
    "                 converters = {'medv': lambda x: 'High' if float(x) > 25 else 'low'})\n",
    "df.head()"
   ]
  },
  {
   "cell_type": "code",
   "execution_count": 40,
   "id": "a44bb32c",
   "metadata": {},
   "outputs": [
    {
     "data": {
      "text/html": [
       "<div>\n",
       "<style scoped>\n",
       "    .dataframe tbody tr th:only-of-type {\n",
       "        vertical-align: middle;\n",
       "    }\n",
       "\n",
       "    .dataframe tbody tr th {\n",
       "        vertical-align: top;\n",
       "    }\n",
       "\n",
       "    .dataframe thead th {\n",
       "        text-align: right;\n",
       "    }\n",
       "</style>\n",
       "<table border=\"1\" class=\"dataframe\">\n",
       "  <thead>\n",
       "    <tr style=\"text-align: right;\">\n",
       "      <th></th>\n",
       "      <th>crim</th>\n",
       "      <th>medv</th>\n",
       "    </tr>\n",
       "  </thead>\n",
       "  <tbody>\n",
       "    <tr>\n",
       "      <th>0</th>\n",
       "      <td>0.00632</td>\n",
       "      <td>24.0</td>\n",
       "    </tr>\n",
       "    <tr>\n",
       "      <th>1</th>\n",
       "      <td>0.02731</td>\n",
       "      <td>21.6</td>\n",
       "    </tr>\n",
       "    <tr>\n",
       "      <th>2</th>\n",
       "      <td>0.02729</td>\n",
       "      <td>34.7</td>\n",
       "    </tr>\n",
       "    <tr>\n",
       "      <th>3</th>\n",
       "      <td>0.03237</td>\n",
       "      <td>33.4</td>\n",
       "    </tr>\n",
       "    <tr>\n",
       "      <th>4</th>\n",
       "      <td>0.06905</td>\n",
       "      <td>36.2</td>\n",
       "    </tr>\n",
       "  </tbody>\n",
       "</table>\n",
       "</div>"
      ],
      "text/plain": [
       "      crim  medv\n",
       "0  0.00632  24.0\n",
       "1  0.02731  21.6\n",
       "2  0.02729  34.7\n",
       "3  0.03237  33.4\n",
       "4  0.06905  36.2"
      ]
     },
     "execution_count": 40,
     "metadata": {},
     "output_type": "execute_result"
    }
   ],
   "source": [
    "# import only specified columns from a csv file\n",
    "df = pd.read_csv('https://raw.githubusercontent.com/selva86/datasets/master/BostonHousing.csv', usecols=['crim', 'medv'])\n",
    "df.head()"
   ]
  },
  {
   "cell_type": "code",
   "execution_count": 48,
   "id": "6ee7ef41",
   "metadata": {},
   "outputs": [
    {
     "name": "stdout",
     "output_type": "stream",
     "text": [
      "float64    18\n",
      "object      9\n",
      "dtype: int64\n",
      "float64    18\n",
      "object      9\n",
      "dtype: int64\n",
      "[['Acura' 'Integra' 'Small' ... 2705.0 'non-USA' 'Acura Integra']\n",
      " [nan 'Legend' 'Midsize' ... 3560.0 'non-USA' 'Acura Legend']\n",
      " ['Audi' '90' 'Compact' ... 3375.0 'non-USA' 'Audi 90']\n",
      " ...\n",
      " ['Volkswagen' 'Corrado' 'Sporty' ... 2810.0 'non-USA'\n",
      "  'Volkswagen Corrado']\n",
      " ['Volvo' '240' 'Compact' ... 2985.0 'non-USA' 'Volvo 240']\n",
      " [nan '850' 'Midsize' ... 3245.0 'non-USA' 'Volvo 850']]\n",
      "-----------------\n",
      "[['Acura', 'Integra', 'Small', 12.9, 15.9, 18.8, 25.0, 31.0, 'None', 'Front', '4', 1.8, 140.0, 6300.0, 2890.0, 'Yes', 13.2, 5.0, 177.0, 102.0, 68.0, 37.0, 26.5, nan, 2705.0, 'non-USA', 'Acura Integra'], [nan, 'Legend', 'Midsize', 29.2, 33.9, 38.7, 18.0, 25.0, 'Driver & Passenger', 'Front', '6', 3.2, 200.0, 5500.0, 2335.0, 'Yes', 18.0, 5.0, 195.0, 115.0, 71.0, 38.0, 30.0, 15.0, 3560.0, 'non-USA', 'Acura Legend'], ['Audi', '90', 'Compact', 25.9, 29.1, 32.3, 20.0, 26.0, 'Driver only', 'Front', '6', 2.8, 172.0, 5500.0, 2280.0, 'Yes', 16.9, 5.0, 180.0, 102.0, 67.0, 37.0, 28.0, 14.0, 3375.0, 'non-USA', 'Audi 90'], ['Audi', '100', 'Midsize', nan, 37.7, 44.6, 19.0, 26.0, 'Driver & Passenger', nan, '6', nan, 172.0, 5500.0, 2535.0, nan, 21.1, 6.0, 193.0, 106.0, nan, 37.0, 31.0, 17.0, 3405.0, 'non-USA', 'Audi 100'], ['BMW', '535i', 'Midsize', nan, 30.0, nan, 22.0, 30.0, nan, 'Rear', '4', 3.5, 208.0, 5700.0, 2545.0, 'Yes', 21.1, 4.0, 186.0, 109.0, 69.0, 39.0, 27.0, 13.0, 3640.0, 'non-USA', 'BMW 535i'], ['Buick', 'Century', 'Midsize', 14.2, 15.7, 17.3, 22.0, 31.0, 'Driver only', nan, '4', 2.2, 110.0, 5200.0, 2565.0, 'No', 16.4, 6.0, 189.0, 105.0, 69.0, 41.0, 28.0, 16.0, nan, 'USA', 'Buick Century'], ['Buick', 'LeSabre', 'Large', 19.9, 20.8, nan, 19.0, 28.0, 'Driver only', 'Front', '6', 3.8, 170.0, 4800.0, nan, 'No', nan, 6.0, 200.0, 111.0, 74.0, 42.0, 30.5, 17.0, 3470.0, 'USA', 'Buick LeSabre'], ['Buick', 'Roadmaster', 'Large', 22.6, 23.7, 24.9, 16.0, 25.0, 'Driver only', 'Rear', '6', 5.7, 180.0, 4000.0, 1320.0, 'No', 23.0, 6.0, 216.0, 116.0, 78.0, 45.0, 30.5, 21.0, 4105.0, 'USA', 'Buick Roadmaster'], ['Buick', 'Riviera', 'Midsize', 26.3, 26.3, 26.3, 19.0, 27.0, 'Driver only', 'Front', '6', 3.8, 170.0, 4800.0, 1690.0, 'No', 18.8, 5.0, 198.0, 108.0, nan, 41.0, 26.5, 14.0, 3495.0, 'USA', 'Buick Riviera'], ['Cadillac', 'DeVille', 'Large', 33.0, 34.7, 36.3, 16.0, 25.0, 'Driver only', 'Front', '8', 4.9, 200.0, 4100.0, nan, 'No', 18.0, 6.0, 206.0, 114.0, 73.0, 43.0, 35.0, 18.0, 3620.0, 'USA', 'Cadillac DeVille'], ['Cadillac', 'Seville', 'Midsize', 37.5, 40.1, 42.7, 16.0, 25.0, 'Driver & Passenger', 'Front', '8', 4.6, 295.0, 6000.0, 1985.0, 'No', 20.0, 5.0, 204.0, 111.0, 74.0, 44.0, 31.0, nan, 3935.0, 'USA', 'Cadillac Seville'], ['Chevrolet', 'Cavalier', 'Compact', 8.5, 13.4, 18.3, 25.0, 36.0, nan, nan, '4', 2.2, nan, 5200.0, 2380.0, 'Yes', 15.2, 5.0, 182.0, 101.0, 66.0, 38.0, 25.0, 13.0, 2490.0, 'USA', 'Chevrolet Cavalier'], ['Chevrolet', 'Corsica', 'Compact', 11.4, 11.4, 11.4, 25.0, 34.0, 'Driver only', 'Front', nan, 2.2, 110.0, 5200.0, 2665.0, 'Yes', 15.6, 5.0, 184.0, 103.0, 68.0, 39.0, 26.0, nan, 2785.0, 'USA', 'Chevrolet Corsica'], ['Chevrolet', 'Camaro', 'Sporty', 13.4, 15.1, 16.8, 19.0, 28.0, 'Driver & Passenger', 'Rear', nan, 3.4, 160.0, 4600.0, 1805.0, 'Yes', nan, 4.0, 193.0, 101.0, 74.0, 43.0, 25.0, 13.0, 3240.0, 'USA', 'Chevrolet Camaro'], ['Chevrolet', 'Lumina', 'Midsize', 13.4, 15.9, 18.4, nan, 29.0, 'None', 'Front', '4', 2.2, nan, 5200.0, 2595.0, 'No', 16.5, 6.0, nan, 108.0, 71.0, nan, 28.5, 16.0, 3195.0, 'USA', 'Chevrolet Lumina'], ['Chevrolet', 'Lumina_APV', 'Van', 14.7, 16.3, 18.0, 18.0, 23.0, 'None', 'Front', '6', 3.8, 170.0, 4800.0, 1690.0, 'No', 20.0, 7.0, 178.0, 110.0, 74.0, 44.0, 30.5, nan, 3715.0, 'USA', 'Chevrolet Lumina_APV'], ['Chevrolet', 'Astro', 'Van', 14.7, 16.6, 18.6, 15.0, 20.0, 'None', '4WD', '6', 4.3, nan, 4000.0, 1790.0, 'No', 27.0, 8.0, 194.0, 111.0, 78.0, 42.0, 33.5, nan, 4025.0, 'USA', 'Chevrolet Astro'], ['Chevrolet', 'Caprice', 'Large', 18.0, 18.8, 19.6, 17.0, 26.0, 'Driver only', 'Rear', '8', 5.0, 170.0, 4200.0, 1350.0, 'No', 23.0, 6.0, 214.0, 116.0, 77.0, 42.0, 29.5, 20.0, 3910.0, 'USA', 'Chevrolet Caprice'], ['Chevrolet', 'Corvette', 'Sporty', 34.6, 38.0, 41.5, 17.0, 25.0, 'Driver only', 'Rear', '8', 5.7, 300.0, 5000.0, 1450.0, 'Yes', 20.0, 2.0, 179.0, 96.0, 74.0, 43.0, nan, nan, 3380.0, nan, 'Chevrolet Corvette'], [nan, 'Concorde', 'Large', 18.4, 18.4, 18.4, 20.0, 28.0, 'Driver & Passenger', 'Front', '6', 3.3, 153.0, 5300.0, 1990.0, 'No', 18.0, 6.0, 203.0, 113.0, 74.0, nan, 31.0, 15.0, 3515.0, 'USA', 'Chrylser Concorde'], ['Chrysler', 'LeBaron', 'Compact', 14.5, 15.8, 17.1, 23.0, 28.0, 'Driver & Passenger', 'Front', '4', 3.0, 141.0, 5000.0, 2090.0, 'No', 16.0, 6.0, 183.0, 104.0, 68.0, 41.0, 30.5, 14.0, 3085.0, 'USA', 'Chrysler LeBaron'], ['Chrysler', 'Imperial', 'Large', 29.5, 29.5, 29.5, 20.0, 26.0, 'Driver only', 'Front', '6', 3.3, 147.0, 4800.0, 1785.0, 'No', 16.0, 6.0, 203.0, 110.0, 69.0, 44.0, 36.0, 17.0, 3570.0, 'USA', 'Chrysler Imperial'], ['Dodge', 'Colt', 'Small', 7.9, 9.2, 10.6, 29.0, 33.0, 'None', 'Front', '4', 1.5, 92.0, 6000.0, 3285.0, 'Yes', nan, 5.0, 174.0, 98.0, 66.0, 32.0, nan, 11.0, 2270.0, 'USA', 'Dodge Colt'], ['Dodge', 'Shadow', 'Small', 8.4, 11.3, 14.2, 23.0, 29.0, 'Driver only', 'Front', '4', 2.2, 93.0, 4800.0, nan, 'Yes', 14.0, 5.0, 172.0, 97.0, 67.0, 38.0, 26.5, nan, 2670.0, 'USA', 'Dodge Shadow'], ['Dodge', 'Spirit', 'Compact', 11.9, 13.3, 14.7, 22.0, 27.0, 'Driver only', 'Front', '4', 2.5, 100.0, 4800.0, 2535.0, 'Yes', nan, 6.0, 181.0, 104.0, 68.0, 39.0, 30.5, nan, 2970.0, 'USA', 'Dodge Spirit'], ['Dodge', 'Caravan', 'Van', nan, 19.0, 24.4, 17.0, 21.0, 'Driver only', '4WD', '6', 3.0, 142.0, 5000.0, 1970.0, 'No', 20.0, 7.0, 175.0, 112.0, 72.0, 42.0, 26.5, nan, 3705.0, 'USA', 'Dodge Caravan'], ['Dodge', 'Dynasty', 'Midsize', 14.8, 15.6, 16.4, 21.0, nan, 'Driver only', 'Front', nan, 2.5, 100.0, 4800.0, 2465.0, 'No', 16.0, 6.0, 192.0, 105.0, 69.0, 42.0, 30.5, 16.0, 3080.0, 'USA', 'Dodge Dynasty'], ['Dodge', 'Stealth', 'Sporty', 18.5, 25.8, 33.1, nan, 24.0, 'Driver only', '4WD', '6', 3.0, 300.0, 6000.0, 2120.0, 'Yes', 19.8, 4.0, 180.0, 97.0, nan, 40.0, 20.0, 11.0, 3805.0, 'USA', 'Dodge Stealth'], ['Eagle', 'Summit', 'Small', 7.9, 12.2, 16.5, 29.0, 33.0, 'None', 'Front', '4', 1.5, 92.0, 6000.0, 2505.0, 'Yes', 13.2, 5.0, 174.0, 98.0, 66.0, 36.0, 26.5, 11.0, 2295.0, 'USA', 'Eagle Summit'], ['Eagle', 'Vision', 'Large', nan, 19.3, 21.2, 20.0, 28.0, 'Driver & Passenger', 'Front', '6', 3.5, nan, 5800.0, 1980.0, 'No', 18.0, 6.0, 202.0, 113.0, 74.0, 40.0, 30.0, 15.0, 3490.0, 'USA', 'Eagle Vision'], ['Ford', 'Festiva', 'Small', 6.9, 7.4, 7.9, 31.0, 33.0, nan, 'Front', '4', 1.3, 63.0, 5000.0, 3150.0, 'Yes', 10.0, 4.0, 141.0, 90.0, 63.0, 33.0, 26.0, 12.0, 1845.0, 'USA', 'Ford Festiva'], ['Ford', 'Escort', 'Small', 8.4, 10.1, 11.9, 23.0, 30.0, 'None', 'Front', '4', 1.8, 127.0, 6500.0, 2410.0, nan, 13.2, 5.0, 171.0, 98.0, 67.0, 36.0, 28.0, 12.0, 2530.0, 'USA', 'Ford Escort'], ['Ford', 'Tempo', 'Compact', 10.4, 11.3, 12.2, 22.0, 27.0, 'None', 'Front', '4', 2.3, 96.0, 4200.0, 2805.0, 'Yes', 15.9, 5.0, 177.0, 100.0, 68.0, nan, 27.5, 13.0, nan, 'USA', nan], ['Ford', 'Mustang', 'Sporty', 10.8, 15.9, 21.0, 22.0, 29.0, 'Driver only', 'Rear', '4', 2.3, 105.0, 4600.0, 2285.0, 'Yes', 15.4, 4.0, 180.0, 101.0, 68.0, 40.0, 24.0, 12.0, nan, 'USA', 'Ford Mustang'], ['Ford', 'Probe', 'Sporty', 12.8, 14.0, 15.2, nan, 30.0, 'Driver only', 'Front', '4', 2.0, 115.0, 5500.0, 2340.0, 'Yes', 15.5, 4.0, 179.0, 103.0, 70.0, 38.0, 23.0, 18.0, 2710.0, 'USA', 'Ford Probe'], ['Ford', 'Aerostar', 'Van', 14.5, 19.9, 25.3, 15.0, 20.0, 'Driver only', '4WD', '6', 3.0, 145.0, 4800.0, 2080.0, 'Yes', 21.0, 7.0, 176.0, 119.0, 72.0, 45.0, 30.0, nan, 3735.0, 'USA', 'Ford Aerostar'], ['Ford', 'Taurus', 'Midsize', 15.6, 20.2, 24.8, 21.0, 30.0, 'Driver only', 'Front', '6', 3.0, nan, 4800.0, 1885.0, 'No', nan, 5.0, 192.0, 106.0, 71.0, 40.0, 27.5, 18.0, 3325.0, 'USA', 'Ford Taurus'], ['Ford', 'Crown_Victoria', 'Large', 20.1, 20.9, 21.7, 18.0, 26.0, 'Driver only', 'Rear', '8', 4.6, 190.0, 4200.0, nan, 'No', 20.0, 6.0, 212.0, 114.0, 78.0, 43.0, 30.0, 21.0, 3950.0, 'USA', 'Ford Crown_Victoria'], ['Geo', 'Metro', 'Small', 6.7, 8.4, 10.0, 46.0, 50.0, 'None', 'Front', '3', 1.0, 55.0, 5700.0, 3755.0, nan, 10.6, 4.0, 151.0, 93.0, 63.0, 34.0, 27.5, 10.0, 1695.0, 'non-USA', 'Geo Metro'], ['Geo', 'Storm', 'Sporty', 11.5, 12.5, 13.5, 30.0, 36.0, 'Driver only', 'Front', '4', 1.6, 90.0, 5400.0, 3250.0, 'Yes', 12.4, 4.0, 164.0, 97.0, nan, 37.0, 24.5, 11.0, 2475.0, 'non-USA', 'Geo Storm'], ['Honda', 'Prelude', 'Sporty', 17.0, 19.8, 22.7, 24.0, 31.0, 'Driver & Passenger', 'Front', '4', 2.3, 160.0, 5800.0, 2855.0, 'Yes', nan, 4.0, 175.0, 100.0, 70.0, 39.0, 23.5, 8.0, 2865.0, 'non-USA', 'Honda Prelude'], ['Honda', 'Civic', 'Small', 8.4, 12.1, 15.8, 42.0, 46.0, 'Driver only', 'Front', '4', 1.5, nan, 5900.0, 2650.0, 'Yes', 11.9, 4.0, 173.0, nan, 67.0, 36.0, 28.0, 12.0, nan, 'non-USA', 'Honda Civic'], ['Honda', 'Accord', 'Compact', 13.8, 17.5, 21.2, 24.0, 31.0, 'Driver & Passenger', 'Front', '4', 2.2, 140.0, 5600.0, nan, 'Yes', 17.0, 4.0, 185.0, 107.0, 67.0, 41.0, 28.0, 14.0, 3040.0, 'non-USA', 'Honda Accord'], ['Hyundai', 'Excel', 'Small', 6.8, 8.0, 9.2, 29.0, 33.0, 'None', 'Front', '4', 1.5, 81.0, 5500.0, 2710.0, 'Yes', 11.9, 5.0, 168.0, 94.0, 63.0, 35.0, 26.0, 11.0, 2345.0, 'non-USA', 'Hyundai Excel'], ['Hyundai', 'Elantra', 'Small', 9.0, 10.0, 11.0, nan, 29.0, 'None', 'Front', '4', 1.8, 124.0, 6000.0, 2745.0, 'Yes', 13.7, 5.0, 172.0, 98.0, 66.0, 36.0, 28.0, 12.0, 2620.0, 'non-USA', 'Hyundai Elantra'], ['Hyundai', 'Scoupe', nan, 9.1, 10.0, 11.0, 26.0, 34.0, 'None', 'Front', '4', 1.5, 92.0, 5550.0, 2540.0, 'Yes', 11.9, 4.0, 166.0, 94.0, 64.0, 34.0, 23.5, 9.0, 2285.0, 'non-USA', nan], ['Hyundai', 'Sonata', 'Midsize', 12.4, 13.9, 15.3, 20.0, 27.0, 'None', 'Front', '4', 2.0, 128.0, 6000.0, 2335.0, 'Yes', 17.2, 5.0, 184.0, 104.0, 69.0, 41.0, 31.0, nan, 2885.0, nan, 'Hyundai Sonata'], ['Infiniti', 'Q45', 'Midsize', 45.4, 47.9, nan, 17.0, 22.0, nan, 'Rear', '8', 4.5, 278.0, 6000.0, 1955.0, 'No', 22.5, 5.0, 200.0, 113.0, 72.0, 42.0, 29.0, 15.0, 4000.0, 'non-USA', 'Infiniti Q45'], ['Lexus', 'ES300', 'Midsize', 27.5, 28.0, 28.4, 18.0, 24.0, 'Driver only', 'Front', '6', 3.0, 185.0, nan, 2325.0, 'Yes', 18.5, 5.0, 188.0, 103.0, 70.0, 40.0, 27.5, 14.0, 3510.0, 'non-USA', 'Lexus ES300'], [nan, 'SC300', 'Midsize', 34.7, 35.2, 35.6, 18.0, 23.0, 'Driver & Passenger', 'Rear', '6', 3.0, 225.0, 6000.0, 2510.0, 'Yes', nan, 4.0, 191.0, 106.0, 71.0, 39.0, 25.0, 9.0, 3515.0, 'non-USA', 'Lexus SC300'], ['Lincoln', 'Continental', 'Midsize', 33.3, 34.3, 35.3, 17.0, 26.0, 'Driver & Passenger', nan, '6', 3.8, 160.0, 4400.0, 1835.0, 'No', 18.4, 6.0, 205.0, 109.0, 73.0, 42.0, 30.0, 19.0, 3695.0, 'USA', 'Lincoln Continental'], ['Lincoln', 'Town_Car', 'Large', 34.4, 36.1, 37.8, 18.0, 26.0, 'Driver & Passenger', 'Rear', '8', 4.6, 210.0, 4600.0, 1840.0, 'No', 20.0, nan, 219.0, 117.0, 77.0, 45.0, 31.5, 22.0, 4055.0, 'USA', 'Lincoln Town_Car'], ['Mazda', '323', 'Small', 7.4, 8.3, 9.1, 29.0, 37.0, 'None', 'Front', '4', 1.6, 82.0, 5000.0, 2370.0, 'Yes', 13.2, 4.0, 164.0, 97.0, 66.0, 34.0, 27.0, 16.0, 2325.0, 'non-USA', 'Mazda 323'], ['Mazda', 'Protege', 'Small', 10.9, 11.6, 12.3, 28.0, 36.0, 'None', 'Front', '4', 1.8, 103.0, 5500.0, 2220.0, 'Yes', 14.5, 5.0, 172.0, 98.0, 66.0, 36.0, 26.5, 13.0, 2440.0, 'non-USA', 'Mazda Protege'], ['Mazda', '626', 'Compact', 14.3, 16.5, 18.7, 26.0, 34.0, 'Driver only', 'Front', '4', 2.5, 164.0, 5600.0, 2505.0, 'Yes', 15.5, 5.0, 184.0, 103.0, 69.0, 40.0, 29.5, 14.0, 2970.0, 'non-USA', 'Mazda 626'], ['Mazda', 'MPV', 'Van', 16.6, 19.1, 21.7, 18.0, 24.0, 'None', '4WD', '6', 3.0, 155.0, 5000.0, 2240.0, 'No', 19.6, 7.0, 190.0, 110.0, 72.0, 39.0, 27.5, nan, 3735.0, 'non-USA', 'Mazda MPV'], ['Mazda', 'RX-7', 'Sporty', 32.5, 32.5, 32.5, 17.0, 25.0, 'Driver only', nan, 'rotary', 1.3, 255.0, 6500.0, 2325.0, 'Yes', 20.0, 2.0, 169.0, 96.0, 69.0, nan, nan, nan, nan, 'non-USA', 'Mazda RX-7'], ['Mercedes-Benz', '190E', 'Compact', 29.0, 31.9, 34.9, nan, 29.0, 'Driver only', 'Rear', '4', 2.3, 130.0, 5100.0, 2425.0, 'Yes', 14.5, 5.0, 175.0, 105.0, 67.0, 34.0, 26.0, 12.0, 2920.0, nan, 'Mercedes-Benz 190E'], ['Mercedes-Benz', '300E', 'Midsize', 43.8, 61.9, 80.0, 19.0, 25.0, 'Driver & Passenger', 'Rear', '6', 3.2, 217.0, 5500.0, 2220.0, 'No', 18.5, 5.0, nan, 110.0, 69.0, 37.0, nan, 15.0, 3525.0, 'non-USA', 'Mercedes-Benz 300E'], ['Mercury', nan, 'Sporty', 13.3, 14.1, 15.0, 23.0, 26.0, 'Driver only', 'Front', '4', 1.6, 100.0, 5750.0, 2475.0, 'Yes', 11.1, 4.0, 166.0, 95.0, 65.0, 36.0, 19.0, 6.0, 2450.0, 'USA', 'Mercury Capri'], ['Mercury', 'Cougar', 'Midsize', 14.9, 14.9, 14.9, 19.0, 26.0, 'None', 'Rear', '6', 3.8, 140.0, 3800.0, 1730.0, 'No', 18.0, 5.0, 199.0, 113.0, 73.0, 38.0, 28.0, 15.0, 3610.0, 'USA', 'Mercury Cougar'], ['Mitsubishi', 'Mirage', 'Small', 7.7, 10.3, 12.9, 29.0, nan, 'None', 'Front', '4', 1.5, 92.0, 6000.0, 2505.0, 'Yes', 13.2, 5.0, 172.0, 98.0, 67.0, 36.0, 26.0, 11.0, 2295.0, 'non-USA', 'Mitsubishi Mirage'], ['Mitsubishi', 'Diamante', 'Midsize', 22.4, 26.1, nan, 18.0, 24.0, 'Driver only', 'Front', '6', 3.0, 202.0, 6000.0, 2210.0, 'No', 19.0, 5.0, 190.0, 107.0, 70.0, 43.0, 27.5, 14.0, 3730.0, 'non-USA', 'Mitsubishi Diamante'], ['Nissan', 'Sentra', 'Small', 8.7, 11.8, 14.9, 29.0, 33.0, 'Driver only', 'Front', nan, 1.6, 110.0, 6000.0, 2435.0, 'Yes', 13.2, 5.0, 170.0, 96.0, 66.0, 33.0, 26.0, nan, nan, 'non-USA', 'Nissan Sentra'], ['Nissan', 'Altima', 'Compact', 13.0, 15.7, 18.3, 24.0, 30.0, 'Driver only', 'Front', '4', 2.4, 150.0, 5600.0, 2130.0, 'Yes', 15.9, 5.0, 181.0, 103.0, 67.0, 40.0, 28.5, 14.0, 3050.0, 'non-USA', 'Nissan Altima'], ['Nissan', 'Quest', 'Van', 16.7, 19.1, 21.5, 17.0, 23.0, 'None', 'Front', '6', 3.0, nan, 4800.0, 2065.0, 'No', 20.0, 7.0, 190.0, 112.0, 74.0, 41.0, 27.0, nan, 4100.0, 'non-USA', 'Nissan Quest'], ['Nissan', 'Maxima', 'Midsize', 21.0, 21.5, 22.0, 21.0, 26.0, 'Driver only', 'Front', '6', 3.0, 160.0, 5200.0, 2045.0, nan, 18.5, 5.0, 188.0, 104.0, 69.0, 41.0, 28.5, 14.0, 3200.0, 'non-USA', 'Nissan Maxima'], ['Oldsmobile', 'Achieva', 'Compact', 13.0, 13.5, 14.0, 24.0, 31.0, 'None', 'Front', '4', 2.3, 155.0, 6000.0, 2380.0, 'No', 15.2, 5.0, 188.0, 103.0, 67.0, 39.0, 28.0, 14.0, 2910.0, 'USA', 'Oldsmobile Achieva'], ['Oldsmobile', 'Cutlass_Ciera', 'Midsize', 14.2, 16.3, 18.4, 23.0, 31.0, 'Driver only', 'Front', '4', 2.2, 110.0, 5200.0, 2565.0, 'No', nan, 5.0, 190.0, 105.0, 70.0, 42.0, 28.0, 16.0, 2890.0, 'USA', 'Oldsmobile Cutlass_Ciera'], ['Oldsmobile', 'Silhouette', 'Van', 19.5, 19.5, 19.5, 18.0, 23.0, 'None', 'Front', '6', 3.8, 170.0, 4800.0, 1690.0, 'No', 20.0, 7.0, nan, 110.0, 74.0, 44.0, 30.5, nan, 3715.0, 'USA', 'Oldsmobile Silhouette'], ['Oldsmobile', 'Eighty-Eight', 'Large', 19.5, 20.7, 21.9, nan, 28.0, 'Driver only', 'Front', '6', 3.8, 170.0, 4800.0, 1570.0, 'No', 18.0, 6.0, 201.0, 111.0, 74.0, 42.0, 31.5, 17.0, 3470.0, 'USA', 'Oldsmobile Eighty-Eight'], ['Plymouth', 'Laser', 'Sporty', 11.4, 14.4, 17.4, nan, 30.0, 'None', '4WD', '4', 1.8, 92.0, 5000.0, 2360.0, 'Yes', 15.9, 4.0, 173.0, 97.0, 67.0, 39.0, 24.5, 8.0, 2640.0, nan, 'Plymouth Laser'], ['Pontiac', 'LeMans', 'Small', nan, 9.0, 9.9, 31.0, 41.0, 'None', 'Front', '4', 1.6, 74.0, 5600.0, 3130.0, 'Yes', 13.2, 4.0, 177.0, 99.0, 66.0, 35.0, 25.5, 17.0, 2350.0, 'USA', 'Pontiac LeMans'], ['Pontiac', 'Sunbird', 'Compact', 9.4, 11.1, 12.8, nan, 31.0, 'None', nan, '4', 2.0, 110.0, 5200.0, 2665.0, 'Yes', 15.2, 5.0, 181.0, 101.0, 66.0, 39.0, 25.0, 13.0, nan, 'USA', nan], ['Pontiac', 'Firebird', nan, 14.0, 17.7, 21.4, 19.0, 28.0, 'Driver & Passenger', 'Rear', '6', nan, 160.0, 4600.0, 1805.0, 'Yes', 15.5, 4.0, 196.0, 101.0, 75.0, 43.0, 25.0, 13.0, 3240.0, 'USA', 'Pontiac Firebird'], ['Pontiac', 'Grand_Prix', 'Midsize', 15.4, 18.5, 21.6, 19.0, 27.0, 'None', 'Front', '6', 3.4, 200.0, 5000.0, 1890.0, 'Yes', 16.5, 5.0, 195.0, 108.0, 72.0, 41.0, 28.5, 16.0, 3450.0, 'USA', 'Pontiac Grand_Prix'], ['Pontiac', 'Bonneville', 'Large', 19.4, 24.4, 29.4, 19.0, 28.0, 'Driver & Passenger', 'Front', '6', 3.8, 170.0, 4800.0, 1565.0, 'No', 18.0, 6.0, 177.0, 111.0, 74.0, 43.0, 30.5, 18.0, 3495.0, 'USA', 'Pontiac Bonneville'], ['Saab', '900', 'Compact', 20.3, 28.7, 37.1, 20.0, 26.0, nan, 'Front', '4', 2.1, 140.0, 6000.0, 2910.0, 'Yes', 18.0, 5.0, nan, 99.0, 67.0, 37.0, 26.5, 14.0, 2775.0, 'non-USA', 'Saab 900'], ['Saturn', 'SL', 'Small', 9.2, nan, 12.9, nan, 38.0, 'Driver only', 'Front', '4', 1.9, 85.0, 5000.0, 2145.0, 'Yes', 12.8, 5.0, 176.0, 102.0, 68.0, 40.0, 26.5, nan, 2495.0, 'USA', 'Saturn SL'], ['Subaru', 'Justy', 'Small', 7.3, 8.4, 9.5, 33.0, 37.0, 'None', '4WD', '3', 1.2, 73.0, 5600.0, 2875.0, 'Yes', 9.2, 4.0, 146.0, 90.0, 60.0, 32.0, 23.5, 10.0, 2045.0, 'non-USA', 'Subaru Justy'], ['Subaru', 'Loyale', 'Small', 10.5, 10.9, 11.3, 25.0, 30.0, 'None', '4WD', '4', 1.8, 90.0, 5200.0, 3375.0, 'Yes', 15.9, 5.0, 175.0, 97.0, 65.0, 35.0, 27.5, 15.0, 2490.0, 'non-USA', 'Subaru Loyale'], ['Subaru', 'Legacy', 'Compact', 16.3, 19.5, 22.7, 23.0, 30.0, 'Driver only', '4WD', '4', 2.2, 130.0, nan, 2330.0, 'Yes', 15.9, 5.0, 179.0, 102.0, 67.0, 37.0, 27.0, 14.0, 3085.0, 'non-USA', 'Subaru Legacy'], ['Suzuki', 'Swift', nan, 7.3, 8.6, nan, 39.0, 43.0, 'None', 'Front', '3', 1.3, 70.0, 6000.0, 3360.0, 'Yes', 10.6, 4.0, 161.0, 93.0, nan, 34.0, 27.5, 10.0, 1965.0, 'non-USA', 'Suzuki Swift'], ['Toyota', 'Tercel', 'Small', nan, 9.8, 11.8, 32.0, 37.0, 'Driver only', 'Front', '4', 1.5, 82.0, 5200.0, 3505.0, 'Yes', 11.9, nan, 162.0, 94.0, nan, 36.0, 24.0, 11.0, 2055.0, 'non-USA', 'Toyota Tercel'], ['Toyota', 'Celica', 'Sporty', 14.2, 18.4, 22.6, 25.0, 32.0, nan, 'Front', '4', 2.2, 135.0, nan, 2405.0, 'Yes', 15.9, 4.0, 174.0, 99.0, 69.0, nan, 23.0, 13.0, 2950.0, 'non-USA', 'Toyota Celica'], ['Toyota', 'Camry', 'Midsize', 15.2, nan, 21.2, 22.0, 29.0, 'Driver only', nan, '4', 2.2, 130.0, 5400.0, 2340.0, nan, 18.5, 5.0, 188.0, 103.0, 70.0, 38.0, 28.5, 15.0, 3030.0, 'non-USA', 'Toyota Camry'], ['Toyota', 'Previa', 'Van', nan, 22.7, 26.6, 18.0, 22.0, 'Driver only', '4WD', '4', 2.4, 138.0, 5000.0, 2515.0, 'Yes', 19.8, 7.0, 187.0, 113.0, 71.0, 41.0, 35.0, nan, 3785.0, 'non-USA', 'Toyota Previa'], ['Volkswagen', 'Fox', 'Small', 8.7, 9.1, 9.5, 25.0, 33.0, 'None', 'Front', '4', 1.8, 81.0, 5500.0, 2550.0, 'Yes', 12.4, 4.0, 163.0, 93.0, 63.0, 34.0, 26.0, 10.0, 2240.0, 'non-USA', 'Volkswagen Fox'], ['Volkswagen', 'Eurovan', 'Van', 16.6, 19.7, 22.7, 17.0, 21.0, 'None', 'Front', '5', 2.5, 109.0, 4500.0, 2915.0, 'Yes', 21.1, 7.0, 187.0, 115.0, 72.0, 38.0, 34.0, nan, 3960.0, nan, 'Volkswagen Eurovan'], ['Volkswagen', 'Passat', 'Compact', 17.6, 20.0, 22.4, 21.0, 30.0, 'None', 'Front', '4', 2.0, 134.0, 5800.0, 2685.0, 'Yes', 18.5, 5.0, 180.0, 103.0, 67.0, 35.0, 31.5, 14.0, 2985.0, 'non-USA', 'Volkswagen Passat'], ['Volkswagen', 'Corrado', 'Sporty', 22.9, 23.3, 23.7, 18.0, 25.0, 'None', 'Front', '6', 2.8, 178.0, 5800.0, 2385.0, 'Yes', 18.5, 4.0, 159.0, 97.0, 66.0, 36.0, 26.0, 15.0, 2810.0, 'non-USA', 'Volkswagen Corrado'], ['Volvo', '240', 'Compact', 21.8, 22.7, 23.5, 21.0, 28.0, 'Driver only', 'Rear', nan, 2.3, 114.0, 5400.0, 2215.0, 'Yes', 15.8, 5.0, 190.0, 104.0, 67.0, 37.0, 29.5, 14.0, 2985.0, 'non-USA', 'Volvo 240'], [nan, '850', 'Midsize', 24.8, 26.7, 28.5, 20.0, 28.0, 'Driver & Passenger', 'Front', '5', 2.4, 168.0, 6200.0, nan, 'Yes', 19.3, 5.0, 184.0, 105.0, 69.0, 38.0, 30.0, 15.0, 3245.0, 'non-USA', 'Volvo 850']]\n"
     ]
    }
   ],
   "source": [
    "df = pd.read_csv('https://raw.githubusercontent.com/selva86/datasets/master/Cars93_miss.csv')\n",
    "\n",
    "# how many columns under each dtype\n",
    "print(df.get_dtype_counts())\n",
    "print(df.dtypes.value_counts())\n",
    "\n",
    "# summary statistics\n",
    "df_stats = df.describe()\n",
    "\n",
    "# numpy array \n",
    "df_arr = df.values\n",
    "print(df_arr)\n",
    "\n",
    "# list\n",
    "df_list = df.values.tolist()\n",
    "print('-----------------')\n",
    "print(df_list)"
   ]
  },
  {
   "cell_type": "code",
   "execution_count": null,
   "id": "e009b460",
   "metadata": {},
   "outputs": [],
   "source": [
    "df.loc[df.Price == np.max(df.Price), ['Manufacturer', 'Model', 'Type']]"
   ]
  },
  {
   "cell_type": "code",
   "execution_count": 53,
   "id": "6f3053ce",
   "metadata": {},
   "outputs": [],
   "source": [
    "# rename\n",
    "df = pd.read_csv('https://raw.githubusercontent.com/selva86/datasets/master/Cars93_miss.csv')\n",
    "df.rename(columns = {'Type':'CarType'})\n",
    "# df.columns.values[2] = 'CarType'\n",
    "\n",
    "df.columns = df.columns.map(lambda x:x.replace('.', '_'))"
   ]
  },
  {
   "cell_type": "code",
   "execution_count": 54,
   "id": "724f11e3",
   "metadata": {},
   "outputs": [
    {
     "data": {
      "text/plain": [
       "True"
      ]
     },
     "execution_count": 54,
     "metadata": {},
     "output_type": "execute_result"
    }
   ],
   "source": [
    "# check missing values\n",
    "df.isnull().values.any()"
   ]
  },
  {
   "cell_type": "code",
   "execution_count": 57,
   "id": "a3600d8d",
   "metadata": {},
   "outputs": [
    {
     "data": {
      "text/plain": [
       "Manufacturer           4\n",
       "Model                  1\n",
       "Type                   3\n",
       "Min_Price              7\n",
       "Price                  2\n",
       "Max_Price              5\n",
       "MPG_city               9\n",
       "MPG_highway            2\n",
       "AirBags                6\n",
       "DriveTrain             7\n",
       "Cylinders              5\n",
       "EngineSize             2\n",
       "Horsepower             7\n",
       "RPM                    3\n",
       "Rev_per_mile           6\n",
       "Man_trans_avail        5\n",
       "Fuel_tank_capacity     8\n",
       "Passengers             2\n",
       "Length                 4\n",
       "Wheelbase              1\n",
       "Width                  6\n",
       "Turn_circle            5\n",
       "Rear_seat_room         4\n",
       "Luggage_room          19\n",
       "Weight                 7\n",
       "Origin                 5\n",
       "Make                   3\n",
       "dtype: int64"
      ]
     },
     "execution_count": 57,
     "metadata": {},
     "output_type": "execute_result"
    }
   ],
   "source": [
    "# count the number of missing values in each column\n",
    "df.isnull().sum()\n",
    "# df.apply(lambda x: x.isnull().sum())"
   ]
  },
  {
   "cell_type": "code",
   "execution_count": 59,
   "id": "cbb41c07",
   "metadata": {},
   "outputs": [
    {
     "data": {
      "text/html": [
       "<div>\n",
       "<style scoped>\n",
       "    .dataframe tbody tr th:only-of-type {\n",
       "        vertical-align: middle;\n",
       "    }\n",
       "\n",
       "    .dataframe tbody tr th {\n",
       "        vertical-align: top;\n",
       "    }\n",
       "\n",
       "    .dataframe thead th {\n",
       "        text-align: right;\n",
       "    }\n",
       "</style>\n",
       "<table border=\"1\" class=\"dataframe\">\n",
       "  <thead>\n",
       "    <tr style=\"text-align: right;\">\n",
       "      <th></th>\n",
       "      <th>Min_Price</th>\n",
       "      <th>Max_Price</th>\n",
       "    </tr>\n",
       "  </thead>\n",
       "  <tbody>\n",
       "    <tr>\n",
       "      <th>0</th>\n",
       "      <td>12.900000</td>\n",
       "      <td>18.800000</td>\n",
       "    </tr>\n",
       "    <tr>\n",
       "      <th>1</th>\n",
       "      <td>29.200000</td>\n",
       "      <td>38.700000</td>\n",
       "    </tr>\n",
       "    <tr>\n",
       "      <th>2</th>\n",
       "      <td>25.900000</td>\n",
       "      <td>32.300000</td>\n",
       "    </tr>\n",
       "    <tr>\n",
       "      <th>3</th>\n",
       "      <td>17.118605</td>\n",
       "      <td>44.600000</td>\n",
       "    </tr>\n",
       "    <tr>\n",
       "      <th>4</th>\n",
       "      <td>17.118605</td>\n",
       "      <td>21.459091</td>\n",
       "    </tr>\n",
       "  </tbody>\n",
       "</table>\n",
       "</div>"
      ],
      "text/plain": [
       "   Min_Price  Max_Price\n",
       "0  12.900000  18.800000\n",
       "1  29.200000  38.700000\n",
       "2  25.900000  32.300000\n",
       "3  17.118605  44.600000\n",
       "4  17.118605  21.459091"
      ]
     },
     "execution_count": 59,
     "metadata": {},
     "output_type": "execute_result"
    }
   ],
   "source": [
    "# replace missing values of multiple numeric columns with the mean\n",
    "df_out = df[['Min_Price', 'Max_Price']].apply(lambda x: x.fillna(x.mean()))\n",
    "df_out.head()"
   ]
  },
  {
   "cell_type": "code",
   "execution_count": 65,
   "id": "da59132c",
   "metadata": {},
   "outputs": [
    {
     "data": {
      "text/html": [
       "<div>\n",
       "<style scoped>\n",
       "    .dataframe tbody tr th:only-of-type {\n",
       "        vertical-align: middle;\n",
       "    }\n",
       "\n",
       "    .dataframe tbody tr th {\n",
       "        vertical-align: top;\n",
       "    }\n",
       "\n",
       "    .dataframe thead th {\n",
       "        text-align: right;\n",
       "    }\n",
       "</style>\n",
       "<table border=\"1\" class=\"dataframe\">\n",
       "  <thead>\n",
       "    <tr style=\"text-align: right;\">\n",
       "      <th></th>\n",
       "      <th>Min_Price</th>\n",
       "      <th>Max_Price</th>\n",
       "    </tr>\n",
       "  </thead>\n",
       "  <tbody>\n",
       "    <tr>\n",
       "      <th>0</th>\n",
       "      <td>12.900000</td>\n",
       "      <td>18.80</td>\n",
       "    </tr>\n",
       "    <tr>\n",
       "      <th>1</th>\n",
       "      <td>29.200000</td>\n",
       "      <td>38.70</td>\n",
       "    </tr>\n",
       "    <tr>\n",
       "      <th>2</th>\n",
       "      <td>25.900000</td>\n",
       "      <td>32.30</td>\n",
       "    </tr>\n",
       "    <tr>\n",
       "      <th>3</th>\n",
       "      <td>17.118605</td>\n",
       "      <td>44.60</td>\n",
       "    </tr>\n",
       "    <tr>\n",
       "      <th>4</th>\n",
       "      <td>17.118605</td>\n",
       "      <td>19.15</td>\n",
       "    </tr>\n",
       "  </tbody>\n",
       "</table>\n",
       "</div>"
      ],
      "text/plain": [
       "   Min_Price  Max_Price\n",
       "0  12.900000      18.80\n",
       "1  29.200000      38.70\n",
       "2  25.900000      32.30\n",
       "3  17.118605      44.60\n",
       "4  17.118605      19.15"
      ]
     },
     "execution_count": 65,
     "metadata": {},
     "output_type": "execute_result"
    }
   ],
   "source": [
    "d = {'Min_Price': np.nanmean, 'Max_Price': np.nanmedian}\n",
    "df[['Min_Price', 'Max_Price']].apply(lambda x: x.fillna(d[x.name](x))).head()"
   ]
  },
  {
   "cell_type": "code",
   "execution_count": 69,
   "id": "09995bb0",
   "metadata": {},
   "outputs": [
    {
     "data": {
      "text/plain": [
       "pandas.core.frame.DataFrame"
      ]
     },
     "execution_count": 69,
     "metadata": {},
     "output_type": "execute_result"
    }
   ],
   "source": [
    "df = pd.DataFrame(np.arange(20).reshape(-1, 5), columns=list('abcde'))\n",
    "# Solution\n",
    "type(df[['a']])"
   ]
  },
  {
   "cell_type": "code",
   "execution_count": null,
   "id": "e6b58144",
   "metadata": {},
   "outputs": [],
   "source": [
    "# change order\n",
    "df[('cbade')]\n",
    "df[sorted(df.columns)]\n",
    "df.sort_index(axis = 1, ascending = False, inplace = True)"
   ]
  },
  {
   "cell_type": "code",
   "execution_count": 70,
   "id": "a292b077",
   "metadata": {},
   "outputs": [
    {
     "name": "stdout",
     "output_type": "stream",
     "text": [
      "compute.use_bottleneck : bool\n",
      "    Use the bottleneck library to accelerate if it is installed,\n",
      "    the default is True\n",
      "    Valid values: False,True\n",
      "    [default: True] [currently: True]\n",
      "\n",
      "compute.use_numexpr : bool\n",
      "    Use the numexpr library to accelerate computation if it is installed,\n",
      "    the default is True\n",
      "    Valid values: False,True\n",
      "    [default: True] [currently: True]\n",
      "\n",
      "display.chop_threshold : float or None\n",
      "    if set to a float value, all float values smaller then the given threshold\n",
      "    will be displayed as exactly 0 by repr and friends.\n",
      "    [default: None] [currently: None]\n",
      "\n",
      "display.colheader_justify : 'left'/'right'\n",
      "    Controls the justification of column headers. used by DataFrameFormatter.\n",
      "    [default: right] [currently: right]\n",
      "\n",
      "display.column_space No description available.\n",
      "    [default: 12] [currently: 12]\n",
      "\n",
      "display.date_dayfirst : boolean\n",
      "    When True, prints and parses dates with the day first, eg 20/01/2005\n",
      "    [default: False] [currently: False]\n",
      "\n",
      "display.date_yearfirst : boolean\n",
      "    When True, prints and parses dates with the year first, eg 2005/01/20\n",
      "    [default: False] [currently: False]\n",
      "\n",
      "display.encoding : str/unicode\n",
      "    Defaults to the detected encoding of the console.\n",
      "    Specifies the encoding to be used for strings returned by to_string,\n",
      "    these are generally strings meant to be displayed on the console.\n",
      "    [default: UTF-8] [currently: UTF-8]\n",
      "\n",
      "display.expand_frame_repr : boolean\n",
      "    Whether to print out the full DataFrame repr for wide DataFrames across\n",
      "    multiple lines, `max_columns` is still respected, but the output will\n",
      "    wrap-around across multiple \"pages\" if its width exceeds `display.width`.\n",
      "    [default: True] [currently: True]\n",
      "\n",
      "display.float_format : callable\n",
      "    The callable should accept a floating point number and return\n",
      "    a string with the desired format of the number. This is used\n",
      "    in some places like SeriesFormatter.\n",
      "    See formats.format.EngFormatter for an example.\n",
      "    [default: None] [currently: None]\n",
      "\n",
      "display.html.border : int\n",
      "    A ``border=value`` attribute is inserted in the ``<table>`` tag\n",
      "    for the DataFrame HTML repr.\n",
      "    [default: 1] [currently: 1]\n",
      "\n",
      "display.html.table_schema : boolean\n",
      "    Whether to publish a Table Schema representation for frontends\n",
      "    that support it.\n",
      "    (default: False)\n",
      "    [default: False] [currently: False]\n",
      "\n",
      "display.html.use_mathjax : boolean\n",
      "    When True, Jupyter notebook will process table contents using MathJax,\n",
      "    rendering mathematical expressions enclosed by the dollar symbol.\n",
      "    (default: True)\n",
      "    [default: True] [currently: True]\n",
      "\n",
      "display.large_repr : 'truncate'/'info'\n",
      "    For DataFrames exceeding max_rows/max_cols, the repr (and HTML repr) can\n",
      "    show a truncated table (the default from 0.13), or switch to the view from\n",
      "    df.info() (the behaviour in earlier versions of pandas).\n",
      "    [default: truncate] [currently: truncate]\n",
      "\n",
      "display.latex.escape : bool\n",
      "    This specifies if the to_latex method of a Dataframe uses escapes special\n",
      "    characters.\n",
      "    Valid values: False,True\n",
      "    [default: True] [currently: True]\n",
      "\n",
      "display.latex.longtable :bool\n",
      "    This specifies if the to_latex method of a Dataframe uses the longtable\n",
      "    format.\n",
      "    Valid values: False,True\n",
      "    [default: False] [currently: False]\n",
      "\n",
      "display.latex.multicolumn : bool\n",
      "    This specifies if the to_latex method of a Dataframe uses multicolumns\n",
      "    to pretty-print MultiIndex columns.\n",
      "    Valid values: False,True\n",
      "    [default: True] [currently: True]\n",
      "\n",
      "display.latex.multicolumn_format : bool\n",
      "    This specifies if the to_latex method of a Dataframe uses multicolumns\n",
      "    to pretty-print MultiIndex columns.\n",
      "    Valid values: False,True\n",
      "    [default: l] [currently: l]\n",
      "\n",
      "display.latex.multirow : bool\n",
      "    This specifies if the to_latex method of a Dataframe uses multirows\n",
      "    to pretty-print MultiIndex rows.\n",
      "    Valid values: False,True\n",
      "    [default: False] [currently: False]\n",
      "\n",
      "display.latex.repr : boolean\n",
      "    Whether to produce a latex DataFrame representation for jupyter\n",
      "    environments that support it.\n",
      "    (default: False)\n",
      "    [default: False] [currently: False]\n",
      "\n",
      "display.max_categories : int\n",
      "    This sets the maximum number of categories pandas should output when\n",
      "    printing out a `Categorical` or a Series of dtype \"category\".\n",
      "    [default: 8] [currently: 8]\n",
      "\n",
      "display.max_columns : int\n",
      "    If max_cols is exceeded, switch to truncate view. Depending on\n",
      "    `large_repr`, objects are either centrally truncated or printed as\n",
      "    a summary view. 'None' value means unlimited.\n",
      "\n",
      "    In case python/IPython is running in a terminal and `large_repr`\n",
      "    equals 'truncate' this can be set to 0 and pandas will auto-detect\n",
      "    the width of the terminal and print a truncated object which fits\n",
      "    the screen width. The IPython notebook, IPython qtconsole, or IDLE\n",
      "    do not run in a terminal and hence it is not possible to do\n",
      "    correct auto-detection.\n",
      "    [default: 20] [currently: 20]\n",
      "\n",
      "display.max_colwidth : int\n",
      "    The maximum width in characters of a column in the repr of\n",
      "    a pandas data structure. When the column overflows, a \"...\"\n",
      "    placeholder is embedded in the output.\n",
      "    [default: 50] [currently: 50]\n",
      "\n",
      "display.max_info_columns : int\n",
      "    max_info_columns is used in DataFrame.info method to decide if\n",
      "    per column information will be printed.\n",
      "    [default: 100] [currently: 100]\n",
      "\n",
      "display.max_info_rows : int or None\n",
      "    df.info() will usually show null-counts for each column.\n",
      "    For large frames this can be quite slow. max_info_rows and max_info_cols\n",
      "    limit this null check only to frames with smaller dimensions than\n",
      "    specified.\n",
      "    [default: 1690785] [currently: 1690785]\n",
      "\n",
      "display.max_rows : int\n",
      "    If max_rows is exceeded, switch to truncate view. Depending on\n",
      "    `large_repr`, objects are either centrally truncated or printed as\n",
      "    a summary view. 'None' value means unlimited.\n",
      "\n",
      "    In case python/IPython is running in a terminal and `large_repr`\n",
      "    equals 'truncate' this can be set to 0 and pandas will auto-detect\n",
      "    the height of the terminal and print a truncated object which fits\n",
      "    the screen height. The IPython notebook, IPython qtconsole, or\n",
      "    IDLE do not run in a terminal and hence it is not possible to do\n",
      "    correct auto-detection.\n",
      "    [default: 60] [currently: 60]\n",
      "\n",
      "display.max_seq_items : int or None\n",
      "    when pretty-printing a long sequence, no more then `max_seq_items`\n",
      "    will be printed. If items are omitted, they will be denoted by the\n",
      "    addition of \"...\" to the resulting string.\n",
      "\n",
      "    If set to None, the number of items to be printed is unlimited.\n",
      "    [default: 100] [currently: 100]\n",
      "\n",
      "display.memory_usage : bool, string or None\n",
      "    This specifies if the memory usage of a DataFrame should be displayed when\n",
      "    df.info() is called. Valid values True,False,'deep'\n",
      "    [default: True] [currently: True]\n",
      "\n",
      "display.multi_sparse : boolean\n",
      "    \"sparsify\" MultiIndex display (don't display repeated\n",
      "    elements in outer levels within groups)\n",
      "    [default: True] [currently: True]\n",
      "\n",
      "display.notebook_repr_html : boolean\n",
      "    When True, IPython notebook will use html representation for\n",
      "    pandas objects (if it is available).\n",
      "    [default: True] [currently: True]\n",
      "\n",
      "display.pprint_nest_depth : int\n",
      "    Controls the number of nested levels to process when pretty-printing\n",
      "    [default: 3] [currently: 3]\n",
      "\n",
      "display.precision : int\n",
      "    Floating point output precision (number of significant digits). This is\n",
      "    only a suggestion\n",
      "    [default: 6] [currently: 6]\n",
      "\n",
      "display.show_dimensions : boolean or 'truncate'\n",
      "    Whether to print out dimensions at the end of DataFrame repr.\n",
      "    If 'truncate' is specified, only print out the dimensions if the\n",
      "    frame is truncated (e.g. not display all rows and/or columns)\n",
      "    [default: truncate] [currently: truncate]\n",
      "\n",
      "display.unicode.ambiguous_as_wide : boolean\n",
      "    Whether to use the Unicode East Asian Width to calculate the display text\n",
      "    width.\n",
      "    Enabling this may affect to the performance (default: False)\n",
      "    [default: False] [currently: False]\n",
      "\n",
      "display.unicode.east_asian_width : boolean\n",
      "    Whether to use the Unicode East Asian Width to calculate the display text\n",
      "    width.\n",
      "    Enabling this may affect to the performance (default: False)\n",
      "    [default: False] [currently: False]\n",
      "\n",
      "display.width : int\n",
      "    Width of the display in characters. In case python/IPython is running in\n",
      "    a terminal this can be set to None and pandas will correctly auto-detect\n",
      "    the width.\n",
      "    Note that the IPython notebook, IPython qtconsole, or IDLE do not run in a\n",
      "    terminal and hence it is not possible to correctly detect the width.\n",
      "    [default: 80] [currently: 80]\n",
      "\n",
      "html.border : int\n",
      "    A ``border=value`` attribute is inserted in the ``<table>`` tag\n",
      "    for the DataFrame HTML repr.\n",
      "    [default: 1] [currently: 1]\n",
      "    (Deprecated, use `display.html.border` instead.)\n",
      "\n",
      "io.excel.xls.writer : string\n",
      "    The default Excel writer engine for 'xls' files. Available options:\n",
      "    auto, xlwt.\n",
      "    [default: auto] [currently: auto]\n",
      "\n",
      "io.excel.xlsm.writer : string\n",
      "    The default Excel writer engine for 'xlsm' files. Available options:\n",
      "    auto, openpyxl.\n",
      "    [default: auto] [currently: auto]\n",
      "\n",
      "io.excel.xlsx.writer : string\n",
      "    The default Excel writer engine for 'xlsx' files. Available options:\n",
      "    auto, openpyxl, xlsxwriter.\n",
      "    [default: auto] [currently: auto]\n",
      "\n",
      "io.hdf.default_format : format\n",
      "    default format writing format, if None, then\n",
      "    put will default to 'fixed' and append will default to 'table'\n",
      "    [default: None] [currently: None]\n",
      "\n",
      "io.hdf.dropna_table : boolean\n",
      "    drop ALL nan rows when appending to a table\n",
      "    [default: False] [currently: False]\n",
      "\n",
      "io.parquet.engine : string\n",
      "    The default parquet reader/writer engine. Available options:\n",
      "    'auto', 'pyarrow', 'fastparquet', the default is 'auto'\n",
      "    [default: auto] [currently: auto]\n",
      "\n",
      "mode.chained_assignment : string\n",
      "    Raise an exception, warn, or no action if trying to use chained assignment,\n",
      "    The default is warn\n",
      "    [default: warn] [currently: warn]\n",
      "\n",
      "mode.sim_interactive : boolean\n",
      "    Whether to simulate interactive mode for purposes of testing\n",
      "    [default: False] [currently: False]\n",
      "\n",
      "mode.use_inf_as_na : boolean\n",
      "    True means treat None, NaN, INF, -INF as NA (old way),\n",
      "    False means None and NaN are null, but INF, -INF are not NA\n",
      "    (new way).\n",
      "    [default: False] [currently: False]\n",
      "\n",
      "mode.use_inf_as_null : boolean\n",
      "    use_inf_as_null had been deprecated and will be removed in a future\n",
      "    version. Use `use_inf_as_na` instead.\n",
      "    [default: False] [currently: False]\n",
      "    (Deprecated, use `mode.use_inf_as_na` instead.)\n",
      "\n",
      "plotting.matplotlib.register_converters : bool\n",
      "    Whether to register converters with matplotlib's units registry for\n",
      "    dates, times, datetimes, and Periods. Toggling to False will remove\n",
      "    the converters, restoring any converters that pandas overwrote.\n",
      "    [default: True] [currently: True]\n",
      "\n",
      "\n"
     ]
    }
   ],
   "source": [
    "pd.describe_option()"
   ]
  },
  {
   "cell_type": "code",
   "execution_count": 71,
   "id": "f60a6e2c",
   "metadata": {},
   "outputs": [
    {
     "name": "stdout",
     "output_type": "stream",
     "text": [
      "         random\n",
      "0  3.285413e-04\n",
      "1  1.753376e-07\n",
      "2  1.472144e-06\n",
      "3  4.921409e-05\n"
     ]
    }
   ],
   "source": [
    "# format: decimal\n",
    "df = pd.DataFrame(np.random.random(4)**10, columns=['random'])\n",
    "print(df)\n",
    "\n",
    "df.round(4)\n",
    "df.apply(lambda x: '%.4f' % x, axis = 1)"
   ]
  },
  {
   "cell_type": "code",
   "execution_count": 73,
   "id": "129d0632",
   "metadata": {},
   "outputs": [
    {
     "data": {
      "text/html": [
       "<style  type=\"text/css\" >\n",
       "</style>  \n",
       "<table id=\"T_ac43120a_14bb_11ec_8b2f_5800e3488726\" > \n",
       "<thead>    <tr> \n",
       "        <th class=\"blank level0\" ></th> \n",
       "        <th class=\"col_heading level0 col0\" >random</th> \n",
       "    </tr></thead> \n",
       "<tbody>    <tr> \n",
       "        <th id=\"T_ac43120a_14bb_11ec_8b2f_5800e3488726level0_row0\" class=\"row_heading level0 row0\" >0</th> \n",
       "        <td id=\"T_ac43120a_14bb_11ec_8b2f_5800e3488726row0_col0\" class=\"data row0 col0\" >0.03%</td> \n",
       "    </tr>    <tr> \n",
       "        <th id=\"T_ac43120a_14bb_11ec_8b2f_5800e3488726level0_row1\" class=\"row_heading level0 row1\" >1</th> \n",
       "        <td id=\"T_ac43120a_14bb_11ec_8b2f_5800e3488726row1_col0\" class=\"data row1 col0\" >0.00%</td> \n",
       "    </tr>    <tr> \n",
       "        <th id=\"T_ac43120a_14bb_11ec_8b2f_5800e3488726level0_row2\" class=\"row_heading level0 row2\" >2</th> \n",
       "        <td id=\"T_ac43120a_14bb_11ec_8b2f_5800e3488726row2_col0\" class=\"data row2 col0\" >0.00%</td> \n",
       "    </tr>    <tr> \n",
       "        <th id=\"T_ac43120a_14bb_11ec_8b2f_5800e3488726level0_row3\" class=\"row_heading level0 row3\" >3</th> \n",
       "        <td id=\"T_ac43120a_14bb_11ec_8b2f_5800e3488726row3_col0\" class=\"data row3 col0\" >0.00%</td> \n",
       "    </tr></tbody> \n",
       "</table> "
      ],
      "text/plain": [
       "<pandas.io.formats.style.Styler at 0x260997dd7f0>"
      ]
     },
     "execution_count": 73,
     "metadata": {},
     "output_type": "execute_result"
    }
   ],
   "source": [
    "# format: percentile\n",
    "df.style.format({'random':'{0:.2%}'.format})"
   ]
  },
  {
   "cell_type": "code",
   "execution_count": 74,
   "id": "1b4b6fcf",
   "metadata": {},
   "outputs": [
    {
     "data": {
      "text/html": [
       "<div>\n",
       "<style scoped>\n",
       "    .dataframe tbody tr th:only-of-type {\n",
       "        vertical-align: middle;\n",
       "    }\n",
       "\n",
       "    .dataframe tbody tr th {\n",
       "        vertical-align: top;\n",
       "    }\n",
       "\n",
       "    .dataframe thead th {\n",
       "        text-align: right;\n",
       "    }\n",
       "</style>\n",
       "<table border=\"1\" class=\"dataframe\">\n",
       "  <thead>\n",
       "    <tr style=\"text-align: right;\">\n",
       "      <th></th>\n",
       "      <th>Model</th>\n",
       "      <th>Type</th>\n",
       "    </tr>\n",
       "  </thead>\n",
       "  <tbody>\n",
       "    <tr>\n",
       "      <th>0</th>\n",
       "      <td>Integra</td>\n",
       "      <td>Small</td>\n",
       "    </tr>\n",
       "    <tr>\n",
       "      <th>20</th>\n",
       "      <td>LeBaron</td>\n",
       "      <td>Compact</td>\n",
       "    </tr>\n",
       "    <tr>\n",
       "      <th>40</th>\n",
       "      <td>Prelude</td>\n",
       "      <td>Sporty</td>\n",
       "    </tr>\n",
       "    <tr>\n",
       "      <th>60</th>\n",
       "      <td>Cougar</td>\n",
       "      <td>Midsize</td>\n",
       "    </tr>\n",
       "    <tr>\n",
       "      <th>80</th>\n",
       "      <td>Loyale</td>\n",
       "      <td>Small</td>\n",
       "    </tr>\n",
       "  </tbody>\n",
       "</table>\n",
       "</div>"
      ],
      "text/plain": [
       "      Model     Type\n",
       "0   Integra    Small\n",
       "20  LeBaron  Compact\n",
       "40  Prelude   Sporty\n",
       "60   Cougar  Midsize\n",
       "80   Loyale    Small"
      ]
     },
     "execution_count": 74,
     "metadata": {},
     "output_type": "execute_result"
    }
   ],
   "source": [
    "# filter nth row\n",
    "df = pd.read_csv('https://raw.githubusercontent.com/selva86/datasets/master/Cars93_miss.csv')\n",
    "df.iloc[::20,  :][['Model', 'Type']]"
   ]
  },
  {
   "cell_type": "code",
   "execution_count": 3,
   "id": "43b3f7ae",
   "metadata": {},
   "outputs": [
    {
     "name": "stdout",
     "output_type": "stream",
     "text": [
      "True\n",
      "                       Manufacturer    Model     Type  Min.Price  Max.Price\n",
      "Acura_Integra_Small           Acura  Integra    Small       12.9       18.8\n",
      "missing_Legend_Midsize      missing   Legend  Midsize       29.2       38.7\n",
      "Audi_90_Compact                Audi       90  Compact       25.9       32.3\n",
      "Audi_100_Midsize               Audi      100  Midsize        NaN       44.6\n",
      "BMW_535i_Midsize                BMW     535i  Midsize        NaN        NaN\n"
     ]
    }
   ],
   "source": [
    "# 50. create a primary key index by combining relevant columns\n",
    "df = pd.read_csv('https://raw.githubusercontent.com/selva86/datasets/master/Cars93_miss.csv', usecols=[0,1,2,3,5])\n",
    "\n",
    "df[['Manufacturer', 'Model', 'Type']] = df[['Manufacturer', 'Model', 'Type']].fillna('missing')\n",
    "df.index = df.Manufacturer + '_' + df.Model + '_' + df.Type\n",
    "print(df.index.is_unique)\n",
    "print(df.head())"
   ]
  },
  {
   "cell_type": "code",
   "execution_count": 5,
   "id": "8e1e60e3",
   "metadata": {},
   "outputs": [
    {
     "data": {
      "text/plain": [
       "7"
      ]
     },
     "execution_count": 5,
     "metadata": {},
     "output_type": "execute_result"
    }
   ],
   "source": [
    "# get the row number of the nth largest value in a column\n",
    "df = pd.DataFrame(np.random.randint(1, 30, 30).reshape(10,-1), columns=list('abc'))\n",
    "n = 5\n",
    "df['a'].argsort()[::-1][n]"
   ]
  },
  {
   "cell_type": "code",
   "execution_count": null,
   "id": "ac9f021a",
   "metadata": {},
   "outputs": [],
   "source": [
    "# find the position of the 2nd largest value greater than the mean.\n",
    "np.argwhere(ser > ser.mean())[1]"
   ]
  },
  {
   "cell_type": "code",
   "execution_count": 8,
   "id": "08983c87",
   "metadata": {},
   "outputs": [
    {
     "data": {
      "text/html": [
       "<div>\n",
       "<style scoped>\n",
       "    .dataframe tbody tr th:only-of-type {\n",
       "        vertical-align: middle;\n",
       "    }\n",
       "\n",
       "    .dataframe tbody tr th {\n",
       "        vertical-align: top;\n",
       "    }\n",
       "\n",
       "    .dataframe thead th {\n",
       "        text-align: right;\n",
       "    }\n",
       "</style>\n",
       "<table border=\"1\" class=\"dataframe\">\n",
       "  <thead>\n",
       "    <tr style=\"text-align: right;\">\n",
       "      <th></th>\n",
       "      <th>0</th>\n",
       "      <th>1</th>\n",
       "      <th>2</th>\n",
       "      <th>3</th>\n",
       "    </tr>\n",
       "  </thead>\n",
       "  <tbody>\n",
       "    <tr>\n",
       "      <th>12</th>\n",
       "      <td>15</td>\n",
       "      <td>32</td>\n",
       "      <td>21</td>\n",
       "      <td>37</td>\n",
       "    </tr>\n",
       "    <tr>\n",
       "      <th>13</th>\n",
       "      <td>26</td>\n",
       "      <td>33</td>\n",
       "      <td>30</td>\n",
       "      <td>16</td>\n",
       "    </tr>\n",
       "  </tbody>\n",
       "</table>\n",
       "</div>"
      ],
      "text/plain": [
       "     0   1   2   3\n",
       "12  15  32  21  37\n",
       "13  26  33  30  16"
      ]
     },
     "execution_count": 8,
     "metadata": {},
     "output_type": "execute_result"
    }
   ],
   "source": [
    "# get the last n rows of a dataframe with row sum > 100\n",
    "df = pd.DataFrame(np.random.randint(10, 40,60).reshape(-1, 4))\n",
    "rowsums = df.apply(np.sum, axis = 1)\n",
    "last_two_rows = df.iloc[np.where(rowsums > 100)[0][-2:], :]\n",
    "last_two_rows"
   ]
  },
  {
   "cell_type": "code",
   "execution_count": 14,
   "id": "e6704d34",
   "metadata": {},
   "outputs": [
    {
     "data": {
      "text/plain": [
       "['1', '2', '3', '4', '5', '6']"
      ]
     },
     "execution_count": 14,
     "metadata": {},
     "output_type": "execute_result"
    }
   ],
   "source": [
    "# jpmorgan\n",
    "a = 123456\n",
    "b = list(str(a))\n",
    "b\n",
    "\n",
    "c = [int(i) for i in b]\n",
    "c\n",
    "\n",
    "d = list(range(-len(c), 0, 2))\n",
    "d\n",
    "\n",
    "for i in d:\n",
    "    c[i] = 2*c[i]\n",
    "c\n",
    "\n",
    "e = [str(i) for i in c]\n",
    "e\n",
    "\n",
    "f = ''.join(e)\n",
    "\n",
    "g = list(f)\n",
    "g\n",
    "\n",
    "result = 0\n",
    "for i in g:\n",
    "    result += int(i)\n",
    "result"
   ]
  },
  {
   "cell_type": "code",
   "execution_count": 3,
   "id": "5fc76c5a",
   "metadata": {},
   "outputs": [
    {
     "data": {
      "text/html": [
       "<div>\n",
       "<style scoped>\n",
       "    .dataframe tbody tr th:only-of-type {\n",
       "        vertical-align: middle;\n",
       "    }\n",
       "\n",
       "    .dataframe tbody tr th {\n",
       "        vertical-align: top;\n",
       "    }\n",
       "\n",
       "    .dataframe thead th {\n",
       "        text-align: right;\n",
       "    }\n",
       "</style>\n",
       "<table border=\"1\" class=\"dataframe\">\n",
       "  <thead>\n",
       "    <tr style=\"text-align: right;\">\n",
       "      <th></th>\n",
       "      <th>0</th>\n",
       "      <th>1</th>\n",
       "      <th>2</th>\n",
       "      <th>3</th>\n",
       "      <th>4</th>\n",
       "    </tr>\n",
       "  </thead>\n",
       "  <tbody>\n",
       "    <tr>\n",
       "      <th>0</th>\n",
       "      <td>0</td>\n",
       "      <td>1</td>\n",
       "      <td>2</td>\n",
       "      <td>3</td>\n",
       "      <td>4</td>\n",
       "    </tr>\n",
       "    <tr>\n",
       "      <th>1</th>\n",
       "      <td>10</td>\n",
       "      <td>11</td>\n",
       "      <td>12</td>\n",
       "      <td>13</td>\n",
       "      <td>14</td>\n",
       "    </tr>\n",
       "    <tr>\n",
       "      <th>2</th>\n",
       "      <td>5</td>\n",
       "      <td>6</td>\n",
       "      <td>7</td>\n",
       "      <td>8</td>\n",
       "      <td>9</td>\n",
       "    </tr>\n",
       "    <tr>\n",
       "      <th>3</th>\n",
       "      <td>15</td>\n",
       "      <td>16</td>\n",
       "      <td>17</td>\n",
       "      <td>18</td>\n",
       "      <td>19</td>\n",
       "    </tr>\n",
       "    <tr>\n",
       "      <th>4</th>\n",
       "      <td>20</td>\n",
       "      <td>21</td>\n",
       "      <td>22</td>\n",
       "      <td>23</td>\n",
       "      <td>24</td>\n",
       "    </tr>\n",
       "  </tbody>\n",
       "</table>\n",
       "</div>"
      ],
      "text/plain": [
       "    0   1   2   3   4\n",
       "0   0   1   2   3   4\n",
       "1  10  11  12  13  14\n",
       "2   5   6   7   8   9\n",
       "3  15  16  17  18  19\n",
       "4  20  21  22  23  24"
      ]
     },
     "execution_count": 3,
     "metadata": {},
     "output_type": "execute_result"
    }
   ],
   "source": [
    "# swap two rows\n",
    "df = pd.DataFrame(np.arange(25).reshape(5, -1))\n",
    "\n",
    "def swap_rows(df, i1,i2):\n",
    "    a, b = df.iloc[i1, :].copy(), df.iloc[i2, :]\n",
    "    df.iloc[i1, :], df.iloc[i2, :] = b, a\n",
    "    return df\n",
    "\n",
    "swap_rows(df, 1, 2)"
   ]
  },
  {
   "cell_type": "code",
   "execution_count": 4,
   "id": "5863af1c",
   "metadata": {},
   "outputs": [
    {
     "data": {
      "text/html": [
       "<div>\n",
       "<style scoped>\n",
       "    .dataframe tbody tr th:only-of-type {\n",
       "        vertical-align: middle;\n",
       "    }\n",
       "\n",
       "    .dataframe tbody tr th {\n",
       "        vertical-align: top;\n",
       "    }\n",
       "\n",
       "    .dataframe thead th {\n",
       "        text-align: right;\n",
       "    }\n",
       "</style>\n",
       "<table border=\"1\" class=\"dataframe\">\n",
       "  <thead>\n",
       "    <tr style=\"text-align: right;\">\n",
       "      <th></th>\n",
       "      <th>0</th>\n",
       "      <th>1</th>\n",
       "      <th>2</th>\n",
       "      <th>3</th>\n",
       "      <th>4</th>\n",
       "    </tr>\n",
       "  </thead>\n",
       "  <tbody>\n",
       "    <tr>\n",
       "      <th>4</th>\n",
       "      <td>20</td>\n",
       "      <td>21</td>\n",
       "      <td>22</td>\n",
       "      <td>23</td>\n",
       "      <td>24</td>\n",
       "    </tr>\n",
       "    <tr>\n",
       "      <th>3</th>\n",
       "      <td>15</td>\n",
       "      <td>16</td>\n",
       "      <td>17</td>\n",
       "      <td>18</td>\n",
       "      <td>19</td>\n",
       "    </tr>\n",
       "    <tr>\n",
       "      <th>2</th>\n",
       "      <td>5</td>\n",
       "      <td>6</td>\n",
       "      <td>7</td>\n",
       "      <td>8</td>\n",
       "      <td>9</td>\n",
       "    </tr>\n",
       "    <tr>\n",
       "      <th>1</th>\n",
       "      <td>10</td>\n",
       "      <td>11</td>\n",
       "      <td>12</td>\n",
       "      <td>13</td>\n",
       "      <td>14</td>\n",
       "    </tr>\n",
       "    <tr>\n",
       "      <th>0</th>\n",
       "      <td>0</td>\n",
       "      <td>1</td>\n",
       "      <td>2</td>\n",
       "      <td>3</td>\n",
       "      <td>4</td>\n",
       "    </tr>\n",
       "  </tbody>\n",
       "</table>\n",
       "</div>"
      ],
      "text/plain": [
       "    0   1   2   3   4\n",
       "4  20  21  22  23  24\n",
       "3  15  16  17  18  19\n",
       "2   5   6   7   8   9\n",
       "1  10  11  12  13  14\n",
       "0   0   1   2   3   4"
      ]
     },
     "execution_count": 4,
     "metadata": {},
     "output_type": "execute_result"
    }
   ],
   "source": [
    "# reverse the rows of a dataframe\n",
    "df.iloc[::-1, :]"
   ]
  },
  {
   "cell_type": "code",
   "execution_count": 6,
   "id": "6f10b29f",
   "metadata": {},
   "outputs": [
    {
     "data": {
      "text/html": [
       "<div>\n",
       "<style scoped>\n",
       "    .dataframe tbody tr th:only-of-type {\n",
       "        vertical-align: middle;\n",
       "    }\n",
       "\n",
       "    .dataframe tbody tr th {\n",
       "        vertical-align: top;\n",
       "    }\n",
       "\n",
       "    .dataframe thead th {\n",
       "        text-align: right;\n",
       "    }\n",
       "</style>\n",
       "<table border=\"1\" class=\"dataframe\">\n",
       "  <thead>\n",
       "    <tr style=\"text-align: right;\">\n",
       "      <th></th>\n",
       "      <th>0</th>\n",
       "      <th>5</th>\n",
       "      <th>10</th>\n",
       "      <th>15</th>\n",
       "      <th>20</th>\n",
       "      <th>b</th>\n",
       "      <th>c</th>\n",
       "      <th>d</th>\n",
       "      <th>e</th>\n",
       "    </tr>\n",
       "  </thead>\n",
       "  <tbody>\n",
       "    <tr>\n",
       "      <th>0</th>\n",
       "      <td>1</td>\n",
       "      <td>0</td>\n",
       "      <td>0</td>\n",
       "      <td>0</td>\n",
       "      <td>0</td>\n",
       "      <td>1</td>\n",
       "      <td>2</td>\n",
       "      <td>3</td>\n",
       "      <td>4</td>\n",
       "    </tr>\n",
       "    <tr>\n",
       "      <th>1</th>\n",
       "      <td>0</td>\n",
       "      <td>1</td>\n",
       "      <td>0</td>\n",
       "      <td>0</td>\n",
       "      <td>0</td>\n",
       "      <td>6</td>\n",
       "      <td>7</td>\n",
       "      <td>8</td>\n",
       "      <td>9</td>\n",
       "    </tr>\n",
       "    <tr>\n",
       "      <th>2</th>\n",
       "      <td>0</td>\n",
       "      <td>0</td>\n",
       "      <td>1</td>\n",
       "      <td>0</td>\n",
       "      <td>0</td>\n",
       "      <td>11</td>\n",
       "      <td>12</td>\n",
       "      <td>13</td>\n",
       "      <td>14</td>\n",
       "    </tr>\n",
       "    <tr>\n",
       "      <th>3</th>\n",
       "      <td>0</td>\n",
       "      <td>0</td>\n",
       "      <td>0</td>\n",
       "      <td>1</td>\n",
       "      <td>0</td>\n",
       "      <td>16</td>\n",
       "      <td>17</td>\n",
       "      <td>18</td>\n",
       "      <td>19</td>\n",
       "    </tr>\n",
       "    <tr>\n",
       "      <th>4</th>\n",
       "      <td>0</td>\n",
       "      <td>0</td>\n",
       "      <td>0</td>\n",
       "      <td>0</td>\n",
       "      <td>1</td>\n",
       "      <td>21</td>\n",
       "      <td>22</td>\n",
       "      <td>23</td>\n",
       "      <td>24</td>\n",
       "    </tr>\n",
       "  </tbody>\n",
       "</table>\n",
       "</div>"
      ],
      "text/plain": [
       "   0  5  10  15  20   b   c   d   e\n",
       "0  1  0   0   0   0   1   2   3   4\n",
       "1  0  1   0   0   0   6   7   8   9\n",
       "2  0  0   1   0   0  11  12  13  14\n",
       "3  0  0   0   1   0  16  17  18  19\n",
       "4  0  0   0   0   1  21  22  23  24"
      ]
     },
     "execution_count": 6,
     "metadata": {},
     "output_type": "execute_result"
    }
   ],
   "source": [
    "# one hot encoding\n",
    "df = pd.DataFrame(np.arange(25).reshape(5, -1), columns = list('abcde'))\n",
    "df_onehot = pd.concat([pd.get_dummies(df['a']), df[list('bcde')]], axis = 1)\n",
    "df_onehot"
   ]
  },
  {
   "cell_type": "code",
   "execution_count": 15,
   "id": "a4ad9b63",
   "metadata": {},
   "outputs": [
    {
     "name": "stderr",
     "output_type": "stream",
     "text": [
      "C:\\Users\\lenovo\\Anaconda3\\lib\\site-packages\\numpy\\core\\fromnumeric.py:61: FutureWarning: 'argmax' is deprecated, use 'idxmax' instead. The behavior of 'argmax'\n",
      "will be corrected to return the positional maximum in the future.\n",
      "Use 'series.values.argmax' to get the position of the maximum now.\n",
      "  return bound(*args, **kwds)\n"
     ]
    },
    {
     "data": {
      "text/plain": [
       "3"
      ]
     },
     "execution_count": 15,
     "metadata": {},
     "output_type": "execute_result"
    }
   ],
   "source": [
    " # Which column contains the highest number of row-wise maximum values?\n",
    "df = pd.DataFrame(np.random.randint(1,100, 40).reshape(10, -1))\n",
    "df.apply(np.argmax, axis = 1).value_counts().index[0]"
   ]
  },
  {
   "cell_type": "code",
   "execution_count": 16,
   "id": "9dc35336",
   "metadata": {},
   "outputs": [
    {
     "data": {
      "text/html": [
       "<div>\n",
       "<style scoped>\n",
       "    .dataframe tbody tr th:only-of-type {\n",
       "        vertical-align: middle;\n",
       "    }\n",
       "\n",
       "    .dataframe tbody tr th {\n",
       "        vertical-align: top;\n",
       "    }\n",
       "\n",
       "    .dataframe thead th {\n",
       "        text-align: right;\n",
       "    }\n",
       "</style>\n",
       "<table border=\"1\" class=\"dataframe\">\n",
       "  <thead>\n",
       "    <tr style=\"text-align: right;\">\n",
       "      <th></th>\n",
       "      <th>p</th>\n",
       "      <th>q</th>\n",
       "      <th>r</th>\n",
       "      <th>s</th>\n",
       "      <th>t</th>\n",
       "      <th>u</th>\n",
       "      <th>v</th>\n",
       "      <th>w</th>\n",
       "      <th>x</th>\n",
       "      <th>y</th>\n",
       "    </tr>\n",
       "  </thead>\n",
       "  <tbody>\n",
       "    <tr>\n",
       "      <th>a</th>\n",
       "      <td>36</td>\n",
       "      <td>25</td>\n",
       "      <td>7</td>\n",
       "      <td>96</td>\n",
       "      <td>24</td>\n",
       "      <td>97</td>\n",
       "      <td>63</td>\n",
       "      <td>80</td>\n",
       "      <td>81</td>\n",
       "      <td>19</td>\n",
       "    </tr>\n",
       "    <tr>\n",
       "      <th>b</th>\n",
       "      <td>98</td>\n",
       "      <td>82</td>\n",
       "      <td>66</td>\n",
       "      <td>35</td>\n",
       "      <td>61</td>\n",
       "      <td>87</td>\n",
       "      <td>99</td>\n",
       "      <td>55</td>\n",
       "      <td>59</td>\n",
       "      <td>11</td>\n",
       "    </tr>\n",
       "    <tr>\n",
       "      <th>c</th>\n",
       "      <td>27</td>\n",
       "      <td>52</td>\n",
       "      <td>14</td>\n",
       "      <td>53</td>\n",
       "      <td>84</td>\n",
       "      <td>55</td>\n",
       "      <td>40</td>\n",
       "      <td>44</td>\n",
       "      <td>50</td>\n",
       "      <td>65</td>\n",
       "    </tr>\n",
       "    <tr>\n",
       "      <th>d</th>\n",
       "      <td>39</td>\n",
       "      <td>17</td>\n",
       "      <td>59</td>\n",
       "      <td>41</td>\n",
       "      <td>27</td>\n",
       "      <td>47</td>\n",
       "      <td>1</td>\n",
       "      <td>99</td>\n",
       "      <td>58</td>\n",
       "      <td>18</td>\n",
       "    </tr>\n",
       "    <tr>\n",
       "      <th>e</th>\n",
       "      <td>54</td>\n",
       "      <td>22</td>\n",
       "      <td>48</td>\n",
       "      <td>33</td>\n",
       "      <td>43</td>\n",
       "      <td>67</td>\n",
       "      <td>15</td>\n",
       "      <td>98</td>\n",
       "      <td>40</td>\n",
       "      <td>41</td>\n",
       "    </tr>\n",
       "    <tr>\n",
       "      <th>f</th>\n",
       "      <td>11</td>\n",
       "      <td>39</td>\n",
       "      <td>8</td>\n",
       "      <td>59</td>\n",
       "      <td>25</td>\n",
       "      <td>62</td>\n",
       "      <td>24</td>\n",
       "      <td>75</td>\n",
       "      <td>31</td>\n",
       "      <td>39</td>\n",
       "    </tr>\n",
       "    <tr>\n",
       "      <th>g</th>\n",
       "      <td>97</td>\n",
       "      <td>59</td>\n",
       "      <td>86</td>\n",
       "      <td>82</td>\n",
       "      <td>32</td>\n",
       "      <td>63</td>\n",
       "      <td>46</td>\n",
       "      <td>26</td>\n",
       "      <td>78</td>\n",
       "      <td>60</td>\n",
       "    </tr>\n",
       "    <tr>\n",
       "      <th>h</th>\n",
       "      <td>52</td>\n",
       "      <td>54</td>\n",
       "      <td>98</td>\n",
       "      <td>69</td>\n",
       "      <td>17</td>\n",
       "      <td>67</td>\n",
       "      <td>79</td>\n",
       "      <td>51</td>\n",
       "      <td>53</td>\n",
       "      <td>10</td>\n",
       "    </tr>\n",
       "  </tbody>\n",
       "</table>\n",
       "</div>"
      ],
      "text/plain": [
       "    p   q   r   s   t   u   v   w   x   y\n",
       "a  36  25   7  96  24  97  63  80  81  19\n",
       "b  98  82  66  35  61  87  99  55  59  11\n",
       "c  27  52  14  53  84  55  40  44  50  65\n",
       "d  39  17  59  41  27  47   1  99  58  18\n",
       "e  54  22  48  33  43  67  15  98  40  41\n",
       "f  11  39   8  59  25  62  24  75  31  39\n",
       "g  97  59  86  82  32  63  46  26  78  60\n",
       "h  52  54  98  69  17  67  79  51  53  10"
      ]
     },
     "execution_count": 16,
     "metadata": {},
     "output_type": "execute_result"
    }
   ],
   "source": [
    "# max possible corr between each columns\n",
    "df = pd.DataFrame(np.random.randint(1,100, 80).reshape(8, -1), columns=list('pqrstuvwxy'), index=list('abcdefgh'))\n",
    "df\n",
    "\n",
    "abs_corr = np.abs(df.corr())\n",
    "max_corr = abs_corr.apply(lambda x: sorted(x)[-2])\n",
    "np.round(max_corr.tolist(), 2)"
   ]
  },
  {
   "cell_type": "code",
   "execution_count": null,
   "id": "2a90ce6d",
   "metadata": {},
   "outputs": [],
   "source": [
    "# min by max\n",
    "min_by_max = df.apply(lambda x: x.min(x)/x.max(x), axis = 1)"
   ]
  },
  {
   "cell_type": "code",
   "execution_count": 19,
   "id": "a3754488",
   "metadata": {},
   "outputs": [],
   "source": [
    "# the penultimate value in each row\n",
    "out = df.apply(lambda x: x.sort_values().unique()[-2], axis = 1)\n",
    "df['penultimate'] = out"
   ]
  },
  {
   "cell_type": "code",
   "execution_count": null,
   "id": "159fea79",
   "metadata": {},
   "outputs": [],
   "source": [
    "# normalize all columns\n",
    "out1 = df.apply(lambda x: ((x - x.mean())/x.std()).round(2))\n",
    "out2 = df.apply(lambda x: (x.max() - x)/(x.max() - x.min())).round(2)"
   ]
  },
  {
   "cell_type": "code",
   "execution_count": null,
   "id": "b25bfdb7",
   "metadata": {},
   "outputs": [],
   "source": [
    "# corr with suceeding row\n",
    "[df.iloc[i].corr(df.iloc[i+1]).round(2) for i in range(df.shape[0])[:-1]]"
   ]
  },
  {
   "cell_type": "code",
   "execution_count": null,
   "id": "07b1cef1",
   "metadata": {},
   "outputs": [],
   "source": [
    "# replace both diagonals of dataframe with 0\n",
    "for i in range(df.shape[0]):\n",
    "    df.iat[i, i] = 0\n",
    "    df.iat[df.shape[0]-i-1, i] = 0"
   ]
  },
  {
   "cell_type": "code",
   "execution_count": null,
   "id": "9562d61c",
   "metadata": {},
   "outputs": [],
   "source": [
    "# get particular group\n",
    "df.groupby('col').get_group('apple')"
   ]
  },
  {
   "cell_type": "code",
   "execution_count": null,
   "id": "e2ece66e",
   "metadata": {},
   "outputs": [],
   "source": [
    "# the n’th largest value of a column when grouped by another column\n",
    "df['taste'].groupby(df.fruit).get_group('banana').sort_values().iloc[-2]"
   ]
  },
  {
   "cell_type": "code",
   "execution_count": null,
   "id": "a14ecb77",
   "metadata": {},
   "outputs": [],
   "source": [
    "# compute grouped mean on pandas dataframe and keep the grouped column as another column (not index)\n",
    "df.groupby('fruit', as_index = False)['price'].mean()"
   ]
  },
  {
   "cell_type": "code",
   "execution_count": null,
   "id": "1d66ae75",
   "metadata": {},
   "outputs": [],
   "source": [
    "# join two dataframes by 2 columns so they have only the common rows\n",
    "pd.merge(df1, df2, how = 'inner', left_on = ['a', 'b'], right_on = ['c', 'd'], suffixes = ['_left', '_right'])"
   ]
  },
  {
   "cell_type": "code",
   "execution_count": 23,
   "id": "f69ea3ae",
   "metadata": {},
   "outputs": [
    {
     "data": {
      "text/html": [
       "<div>\n",
       "<style scoped>\n",
       "    .dataframe tbody tr th:only-of-type {\n",
       "        vertical-align: middle;\n",
       "    }\n",
       "\n",
       "    .dataframe tbody tr th {\n",
       "        vertical-align: top;\n",
       "    }\n",
       "\n",
       "    .dataframe thead th {\n",
       "        text-align: right;\n",
       "    }\n",
       "</style>\n",
       "<table border=\"1\" class=\"dataframe\">\n",
       "  <thead>\n",
       "    <tr style=\"text-align: right;\">\n",
       "      <th></th>\n",
       "      <th>fruit</th>\n",
       "      <th>weight</th>\n",
       "      <th>price</th>\n",
       "    </tr>\n",
       "  </thead>\n",
       "  <tbody>\n",
       "    <tr>\n",
       "      <th>2</th>\n",
       "      <td>banana</td>\n",
       "      <td>low</td>\n",
       "      <td>2</td>\n",
       "    </tr>\n",
       "    <tr>\n",
       "      <th>3</th>\n",
       "      <td>apple</td>\n",
       "      <td>high</td>\n",
       "      <td>3</td>\n",
       "    </tr>\n",
       "    <tr>\n",
       "      <th>4</th>\n",
       "      <td>orange</td>\n",
       "      <td>medium</td>\n",
       "      <td>4</td>\n",
       "    </tr>\n",
       "    <tr>\n",
       "      <th>5</th>\n",
       "      <td>banana</td>\n",
       "      <td>low</td>\n",
       "      <td>5</td>\n",
       "    </tr>\n",
       "    <tr>\n",
       "      <th>6</th>\n",
       "      <td>apple</td>\n",
       "      <td>high</td>\n",
       "      <td>6</td>\n",
       "    </tr>\n",
       "    <tr>\n",
       "      <th>7</th>\n",
       "      <td>orange</td>\n",
       "      <td>medium</td>\n",
       "      <td>7</td>\n",
       "    </tr>\n",
       "    <tr>\n",
       "      <th>8</th>\n",
       "      <td>banana</td>\n",
       "      <td>low</td>\n",
       "      <td>8</td>\n",
       "    </tr>\n",
       "  </tbody>\n",
       "</table>\n",
       "</div>"
      ],
      "text/plain": [
       "    fruit  weight  price\n",
       "2  banana     low      2\n",
       "3   apple    high      3\n",
       "4  orange  medium      4\n",
       "5  banana     low      5\n",
       "6   apple    high      6\n",
       "7  orange  medium      7\n",
       "8  banana     low      8"
      ]
     },
     "execution_count": 23,
     "metadata": {},
     "output_type": "execute_result"
    }
   ],
   "source": [
    "# remove rows from a dataframe that are present in another dataframe\n",
    "df1 = pd.DataFrame({'fruit': ['apple', 'orange', 'banana'] * 3,\n",
    "                    'weight': ['high', 'medium', 'low'] * 3,\n",
    "                    'price': np.arange(9)})\n",
    "\n",
    "df2 = pd.DataFrame({'fruit': ['apple', 'orange', 'pine'] * 2,\n",
    "                    'weight': ['high', 'medium'] * 3,\n",
    "                    'price': np.arange(6)})\n",
    "\n",
    "df1[~df1.isin(df2).all(axis = 1)]"
   ]
  },
  {
   "cell_type": "code",
   "execution_count": null,
   "id": "939cd95c",
   "metadata": {},
   "outputs": [],
   "source": [
    "# get the positions where values of two columns match\n",
    "np.where(df.fruit1 == df.fruit2)"
   ]
  },
  {
   "cell_type": "code",
   "execution_count": null,
   "id": "0bf67856",
   "metadata": {},
   "outputs": [],
   "source": [
    "# create lags and leads of a column in a dataframe\n",
    "df['a_lag'] = df['a'].shift(1)\n",
    "df['a_lag'] = df['a'].shift(-1)"
   ]
  },
  {
   "cell_type": "code",
   "execution_count": 9,
   "id": "16bc82d6",
   "metadata": {},
   "outputs": [
    {
     "data": {
      "text/plain": [
       "2    6\n",
       "6    3\n",
       "5    3\n",
       "8    2\n",
       "7    2\n",
       "9    1\n",
       "4    1\n",
       "3    1\n",
       "1    1\n",
       "dtype: int64"
      ]
     },
     "execution_count": 9,
     "metadata": {},
     "output_type": "execute_result"
    }
   ],
   "source": [
    "# get the frequency of unique values in the entire dataframe\n",
    "df = pd.DataFrame(np.random.randint(1, 10, 20).reshape(-1, 4), columns = list('abcd'))\n",
    "\n",
    "pd.value_counts(df.values.ravel())"
   ]
  },
  {
   "cell_type": "code",
   "execution_count": 5,
   "id": "3d7d83dd",
   "metadata": {},
   "outputs": [],
   "source": [
    "import pandas as pd\n",
    "import numpy as np"
   ]
  },
  {
   "cell_type": "code",
   "execution_count": 17,
   "id": "57b7c3a3",
   "metadata": {},
   "outputs": [
    {
     "data": {
      "text/html": [
       "<div>\n",
       "<style scoped>\n",
       "    .dataframe tbody tr th:only-of-type {\n",
       "        vertical-align: middle;\n",
       "    }\n",
       "\n",
       "    .dataframe tbody tr th {\n",
       "        vertical-align: top;\n",
       "    }\n",
       "\n",
       "    .dataframe thead th {\n",
       "        text-align: right;\n",
       "    }\n",
       "</style>\n",
       "<table border=\"1\" class=\"dataframe\">\n",
       "  <thead>\n",
       "    <tr style=\"text-align: right;\">\n",
       "      <th></th>\n",
       "      <th>STD</th>\n",
       "      <th>City</th>\n",
       "      <th>State</th>\n",
       "    </tr>\n",
       "  </thead>\n",
       "  <tbody>\n",
       "    <tr>\n",
       "      <th>1</th>\n",
       "      <td>33</td>\n",
       "      <td>Kolkata</td>\n",
       "      <td>West Bengal</td>\n",
       "    </tr>\n",
       "    <tr>\n",
       "      <th>2</th>\n",
       "      <td>44</td>\n",
       "      <td>Chennai</td>\n",
       "      <td>Tamil Nadu</td>\n",
       "    </tr>\n",
       "    <tr>\n",
       "      <th>3</th>\n",
       "      <td>40</td>\n",
       "      <td>Hyderabad</td>\n",
       "      <td>Telengana</td>\n",
       "    </tr>\n",
       "    <tr>\n",
       "      <th>4</th>\n",
       "      <td>80</td>\n",
       "      <td>Bangalore</td>\n",
       "      <td>Karnataka</td>\n",
       "    </tr>\n",
       "  </tbody>\n",
       "</table>\n",
       "</div>"
      ],
      "text/plain": [
       "0 STD        City        State\n",
       "1  33     Kolkata  West Bengal\n",
       "2  44     Chennai   Tamil Nadu\n",
       "3  40   Hyderabad    Telengana\n",
       "4  80   Bangalore    Karnataka"
      ]
     },
     "execution_count": 17,
     "metadata": {},
     "output_type": "execute_result"
    }
   ],
   "source": [
    "# split a text column into two separate columns\n",
    "df = pd.DataFrame([\"STD, City    State\",\n",
    "\"33, Kolkata    West Bengal\",\n",
    "\"44, Chennai    Tamil Nadu\",\n",
    "\"40, Hyderabad    Telengana\",\n",
    "\"80, Bangalore    Karnataka\"], columns = ['row'])\n",
    "\n",
    "df_out = df.row.str.split(',|    ', expand = True)\n",
    "df_out\n",
    "\n",
    "# first row as header\n",
    "new_header = df_out.iloc[0]\n",
    "df_out = df_out[1:]\n",
    "df_out.columns = new_header\n",
    "df_out"
   ]
  },
  {
   "cell_type": "code",
   "execution_count": null,
   "id": "9503e6fa",
   "metadata": {},
   "outputs": [],
   "source": []
  },
  {
   "cell_type": "code",
   "execution_count": null,
   "id": "c572d828",
   "metadata": {},
   "outputs": [],
   "source": []
  },
  {
   "cell_type": "code",
   "execution_count": null,
   "id": "e1473880",
   "metadata": {},
   "outputs": [],
   "source": []
  },
  {
   "cell_type": "code",
   "execution_count": null,
   "id": "ac9c6b9c",
   "metadata": {},
   "outputs": [],
   "source": []
  },
  {
   "cell_type": "code",
   "execution_count": null,
   "id": "34a099bb",
   "metadata": {},
   "outputs": [],
   "source": []
  }
 ],
 "metadata": {
  "kernelspec": {
   "display_name": "Python 3",
   "language": "python",
   "name": "python3"
  },
  "language_info": {
   "codemirror_mode": {
    "name": "ipython",
    "version": 3
   },
   "file_extension": ".py",
   "mimetype": "text/x-python",
   "name": "python",
   "nbconvert_exporter": "python",
   "pygments_lexer": "ipython3",
   "version": "3.7.0"
  }
 },
 "nbformat": 4,
 "nbformat_minor": 5
}
