{
 "cells": [
  {
   "cell_type": "code",
   "execution_count": null,
   "id": "e8c3b01b",
   "metadata": {},
   "outputs": [],
   "source": [
    "import pandas as pd\n",
    "import numpy as np\n",
    "import matplotlib as plt\n",
    "import seaborn as sns\n",
    "%matplotlib inline\n",
    "import warnings\n",
    "warnings.filterwarnings('ignore')"
   ]
  },
  {
   "cell_type": "code",
   "execution_count": null,
   "id": "1c7caacd",
   "metadata": {},
   "outputs": [],
   "source": [
    "df = pd.read_csv(data)\n",
    "df.shape\n",
    "df.head()\n",
    "df.info()\n",
    "df.summary()\n",
    "df.isnull().sum()"
   ]
  },
  {
   "cell_type": "markdown",
   "id": "8d9b5589",
   "metadata": {},
   "source": [
    "### X y"
   ]
  },
  {
   "cell_type": "code",
   "execution_count": null,
   "id": "55eb71bb",
   "metadata": {},
   "outputs": [],
   "source": [
    "X = df.drop('Channel', axis = 1)\n",
    "y = df['Channel']\n",
    "\n",
    "# convert labels into binary values\n",
    "y[y == 2] = 0\n",
    "y[y == 1] = 1"
   ]
  },
  {
   "cell_type": "markdown",
   "id": "21d497ef",
   "metadata": {},
   "source": [
    "### train"
   ]
  },
  {
   "cell_type": "code",
   "execution_count": 1,
   "id": "885417e7",
   "metadata": {},
   "outputs": [
    {
     "name": "stderr",
     "output_type": "stream",
     "text": [
      "C:\\Users\\lenovo\\Anaconda3\\lib\\site-packages\\dask\\dataframe\\utils.py:13: FutureWarning: pandas.util.testing is deprecated. Use the functions in the public API at pandas.testing instead.\n",
      "  import pandas.util.testing as tm\n"
     ]
    }
   ],
   "source": [
    "# convert dataset into an optimized data structure called Dmatrix that XGBoost supports\n",
    "import xgboost as xgb\n",
    "data_dmatrix = xgb.DMatrix(data = X, label = y)\n",
    "\n",
    "from sklearn.model_selection import train_test_split\n",
    "X_train, X_test, y_train, y_test = train_test_split(X, y, test_size = 0.3, random_state = 0)\n",
    "\n",
    "params = {\n",
    "    'objective':'binary:logistic',  # for classification problems with probability\n",
    "    'max_depth':4, \n",
    "    'alpha':10,  # l1 regularization\n",
    "    'learning_rate':1.0,  # [0,1]\n",
    "    'n_estimators':100\n",
    "}\n",
    "# subsample, colsample_bytree, gamma, lamda (l2 regularization)\n",
    "\n",
    "xgb_clf = xgb.XGBClassifier(**params)\n",
    "xgb_clf.fit(X_train, y_train)"
   ]
  },
  {
   "cell_type": "markdown",
   "id": "4f40f54a",
   "metadata": {},
   "source": [
    "### test and evalution"
   ]
  },
  {
   "cell_type": "code",
   "execution_count": null,
   "id": "680b0132",
   "metadata": {},
   "outputs": [],
   "source": [
    "y_pred = xgb_clf.predict(X_test)\n",
    "\n",
    "from sklearn.metrics import accuracy_score\n",
    "print('XGBoost model accuracy score: {0:0.4f}'.format(accuracy_score(y_test, y_pred)))"
   ]
  },
  {
   "cell_type": "markdown",
   "id": "761d1627",
   "metadata": {},
   "source": [
    "### k-fold cv"
   ]
  },
  {
   "cell_type": "code",
   "execution_count": null,
   "id": "b960e198",
   "metadata": {},
   "outputs": [],
   "source": [
    "params = {\"objective\":\"binary:logistic\",\n",
    "          'colsample_bytree': 0.3,\n",
    "          'learning_rate': 0.1,\n",
    "          'max_depth': 5, \n",
    "          'alpha': 10}\n",
    "\n",
    "xgb_cv = xgb.cv(dtrain = data_dmatrix,\n",
    "                params = params,\n",
    "                nfold = 3,  # k-fold\n",
    "                num_boost_round = 50,  # number of trees\n",
    "                early_stopping_rounds = 10,\n",
    "                metrics = 'auc',\n",
    "                as_pandas = True,  # return the results in a pandas dataframe\n",
    "                seed = 123)"
   ]
  },
  {
   "cell_type": "markdown",
   "id": "aa0afc48",
   "metadata": {},
   "source": [
    "### importance"
   ]
  },
  {
   "cell_type": "code",
   "execution_count": null,
   "id": "351534cf",
   "metadata": {},
   "outputs": [],
   "source": [
    "xgb.plot_importance(xgb_clf)\n",
    "plt.rcParams['figure.figsize'] = [6, 4]\n",
    "plt.show()"
   ]
  }
 ],
 "metadata": {
  "kernelspec": {
   "display_name": "Python 3",
   "language": "python",
   "name": "python3"
  },
  "language_info": {
   "codemirror_mode": {
    "name": "ipython",
    "version": 3
   },
   "file_extension": ".py",
   "mimetype": "text/x-python",
   "name": "python",
   "nbconvert_exporter": "python",
   "pygments_lexer": "ipython3",
   "version": "3.7.0"
  }
 },
 "nbformat": 4,
 "nbformat_minor": 5
}
